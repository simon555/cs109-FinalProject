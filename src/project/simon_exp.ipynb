{
 "cells": [
  {
   "cell_type": "code",
   "execution_count": 30,
   "metadata": {
    "collapsed": true
   },
   "outputs": [],
   "source": [
    "import pandas as pd\n",
    "import numpy as np\n",
    "import matplotlib.pyplot as plt\n",
    "from collections import Counter\n",
    "from pandas.api.types import CategoricalDtype\n",
    "from sklearn.model_selection import train_test_split\n",
    "pd.set_option('display.max_columns', 500)\n",
    "pd.set_option('display.max_colwidth', -1)\n",
    "pd.set_option('display.max_rows', 500)\n",
    "plt.style.use('seaborn')\n",
    "import torch\n",
    "import torch.nn as nn\n",
    "import torch.nn.functional as F\n",
    "from torch.autograd import Variable\n",
    "from torch.utils.data import Dataset, DataLoader\n",
    "\n",
    "from torch.nn.modules import Module\n",
    "from sklearn.metrics import r2_score\n",
    "from sklearn.preprocessing import PolynomialFeatures, StandardScaler\n",
    "\n",
    "from numpy import genfromtxt\n",
    "from time import time\n",
    "from copy import deepcopy\n",
    "\n",
    "from tqdm import tqdm_notebook"
   ]
  },
  {
   "cell_type": "code",
   "execution_count": 31,
   "metadata": {
    "collapsed": false
   },
   "outputs": [
    {
     "name": "stdout",
     "output_type": "stream",
     "text": [
      "device used :  cuda\n"
     ]
    }
   ],
   "source": [
    "device = torch.device('cuda' if torch.cuda.is_available() else 'cpu')\n",
    "\n",
    "print('device used : ', device)"
   ]
  },
  {
   "cell_type": "code",
   "execution_count": 42,
   "metadata": {
    "collapsed": false,
    "scrolled": false
   },
   "outputs": [],
   "source": [
    "X_train = genfromtxt('../../data/ready/X_train.csv', delimiter=',')\n",
    "X_test = genfromtxt('../../data/ready/X_test.csv', delimiter=',')\n",
    "X_val = genfromtxt('../../data/ready/X_val.csv', delimiter=',')\n",
    "protected_train = pd.read_csv('../../data/ready/protected_train.csv')\n",
    "\n",
    "\n",
    "\n",
    "\n",
    "y_train = genfromtxt('../../data/ready/y_train.csv', delimiter=',')\n",
    "y_test = genfromtxt('../../data/ready/y_test.csv', delimiter=',')\n",
    "y_val = genfromtxt('../../data/ready/y_val.csv', delimiter=',')\n",
    "protected_val = pd.read_csv('../../data/ready/protected_val.csv', delimiter=',')\n"
   ]
  },
  {
   "cell_type": "code",
   "execution_count": null,
   "metadata": {
    "collapsed": false
   },
   "outputs": [],
   "source": []
  },
  {
   "cell_type": "code",
   "execution_count": null,
   "metadata": {
    "collapsed": false
   },
   "outputs": [],
   "source": []
  },
  {
   "cell_type": "code",
   "execution_count": null,
   "metadata": {
    "collapsed": false
   },
   "outputs": [],
   "source": []
  },
  {
   "cell_type": "code",
   "execution_count": 33,
   "metadata": {
    "collapsed": true
   },
   "outputs": [],
   "source": [
    "class Data(Dataset):\n",
    "    def __init__(self, X_train, y_train, classes):\n",
    "        self.x = Variable(torch.from_numpy(X_train)).float()\n",
    "        self.y = Variable(torch.from_numpy(y_train)).float()\n",
    "        self.classes = torch.Tensor(list(classes.values == 1))==True\n",
    "        self.len = self.x.shape[0]\n",
    "    def __getitem__(self,index):    \n",
    "        return self.x[index], self.y[index], self.classes[index]\n",
    "    def __len__(self):\n",
    "        return self.len"
   ]
  },
  {
   "cell_type": "code",
   "execution_count": 34,
   "metadata": {
    "collapsed": true
   },
   "outputs": [],
   "source": [
    "class LinearRegressionPytorch(nn.Module):\n",
    "    def __init__(self, input_size):\n",
    "        super().__init__()\n",
    "        self.linear = nn.Linear(input_size, 1)\n",
    "        self.cuda_ready = torch.cuda.is_available()\n",
    "        \n",
    "        if self.cuda_ready:\n",
    "            self.cuda()\n",
    "    \n",
    "    def forward(self, x, device=device):\n",
    "        out = self.linear(x)\n",
    "        return out"
   ]
  },
  {
   "cell_type": "code",
   "execution_count": 101,
   "metadata": {
    "collapsed": true
   },
   "outputs": [],
   "source": [
    "class FairMSE(Module):\n",
    "    def __init__(self, alpha_fairness, L1=False, L2=False, device=device):\n",
    "        super().__init__()\n",
    "        self.alpha_fairness = alpha_fairness\n",
    "        self.mse = nn.MSELoss(reduction='elementwise_mean')\n",
    "        self.L1=L1\n",
    "        self.L2=L2\n",
    "        self.device=device\n",
    "\n",
    "        if torch.cuda.is_available():\n",
    "            self.cuda()\n",
    "    \n",
    "    def compute_L1(self, named_params):\n",
    "        l1_loss = Variable(torch.FloatTensor(1), requires_grad=True).to(self.device)\n",
    "        for name, param in named_params:\n",
    "           if 'bias' not in name:\n",
    "               l1_loss =l1_loss +  torch.sum(torch.abs(param))\n",
    "        return(l1_loss)\n",
    "        \n",
    "    \n",
    "    def forward(self, outputs, labels, classes, named_params=[], device=device):\n",
    "       \n",
    "        regularizer = 0\n",
    "        \n",
    "        if 1 in classes:         \n",
    "            protected_outputs = outputs[classes]\n",
    "            protected_labels = labels[classes]\n",
    "            total_mse = self.mse(outputs, labels)\n",
    "            protected_mse = self.mse(protected_outputs, protected_labels)\n",
    "            \n",
    "            \n",
    "            if self.L1:\n",
    "                regularizer = regularizer + self.compute_L1(named_params)\n",
    "            \n",
    "            return total_mse + self.alpha_fairness*(protected_mse - total_mse)**2 + regularizer, total_mse, protected_mse\n",
    "        else:\n",
    "            total_mse = self.mse(outputs, labels)\n",
    "            return total_mse + regularizer, total_mse, None\n",
    "        \n",
    "    \n",
    "        "
   ]
  },
  {
   "cell_type": "code",
   "execution_count": null,
   "metadata": {
    "collapsed": true
   },
   "outputs": [],
   "source": []
  },
  {
   "cell_type": "code",
   "execution_count": 93,
   "metadata": {
    "collapsed": false
   },
   "outputs": [
    {
     "data": {
      "text/plain": [
       "tensor([3., 4., 5.], grad_fn=<AddBackward>)"
      ]
     },
     "execution_count": 93,
     "metadata": {},
     "output_type": "execute_result"
    }
   ],
   "source": []
  },
  {
   "cell_type": "code",
   "execution_count": 62,
   "metadata": {
    "collapsed": true
   },
   "outputs": [],
   "source": [
    "class MLP(nn.Module):\n",
    "    def __init__(self, input_dim):\n",
    "        super(MLP, self).__init__()\n",
    "        self.hidden = nn.Linear(input_dim, 20)\n",
    "        self.hidden1 = nn.Linear(20, 10)\n",
    "        self.hidden2 = nn.Linear(10, 5)\n",
    "        self.out   = nn.Linear(5, 1)\n",
    "        \n",
    "        self.cuda_ready=torch.cuda.is_available()\n",
    "    \n",
    "        if self.cuda_ready:\n",
    "            self.cuda()\n",
    "\n",
    "    def forward(self, x, device=device):\n",
    "        x = F.relu(self.hidden(x))\n",
    "        x = F.relu(self.hidden1(x))\n",
    "        x = F.relu(self.hidden2(x))\n",
    "        x = self.out(x)\n",
    "        return x"
   ]
  },
  {
   "cell_type": "code",
   "execution_count": null,
   "metadata": {
    "collapsed": false,
    "scrolled": true
   },
   "outputs": [],
   "source": []
  },
  {
   "cell_type": "code",
   "execution_count": 69,
   "metadata": {
    "collapsed": false
   },
   "outputs": [],
   "source": []
  },
  {
   "cell_type": "code",
   "execution_count": 81,
   "metadata": {
    "collapsed": false
   },
   "outputs": [
    {
     "data": {
      "text/plain": [
       "(10000,)"
      ]
     },
     "execution_count": 81,
     "metadata": {},
     "output_type": "execute_result"
    }
   ],
   "source": []
  },
  {
   "cell_type": "code",
   "execution_count": 86,
   "metadata": {
    "collapsed": false
   },
   "outputs": [],
   "source": [
    "def fit_model(X_train, y_train, protected_class, X_val, y_val, protected_class_val, model, \n",
    "              alpha = 0,\n",
    "              batch_size = 32, \n",
    "              lr = 0.001, \n",
    "              epochs = 50,\n",
    "             device=device,\n",
    "             L1=False,\n",
    "             L2=False):\n",
    "    criterion = FairMSE(alpha,L1=L1, L2=L2)\n",
    "    optimiser = torch.optim.Adam(model.parameters(), lr) #Stochastic Gradient Descent\n",
    "    \n",
    "    inputs_all = Variable(torch.from_numpy(X_train)).float().to(device)\n",
    "    labels_all = Variable(torch.from_numpy(y_train)).float().view(y_train.shape[0],1).to(device)\n",
    "    classes_all = torch.Tensor(list(protected_class.values == 1))==True\n",
    "    classes_all = classes_all.view(classes_all.shape[0],1)\n",
    "    \n",
    "    inputs_all_val = Variable(torch.from_numpy(X_val)).float().to(device)\n",
    "    labels_all_val = Variable(torch.from_numpy(y_val)).float().view(y_val.shape[0],1).to(device)\n",
    "    classes_all_val = torch.Tensor(list(protected_class_val.values == 1))==True\n",
    "    classes_all_val =  classes_all_val.view(classes_all_val.shape[0],1)\n",
    "    \n",
    "    dataset=Data(X_train, y_train, protected_class)\n",
    "    trainloader=DataLoader(dataset = dataset, batch_size = batch_size)\n",
    "    \n",
    "    number_of_batch = X_train.shape[0]//batch_size\n",
    "    \n",
    "    loss_hist = []\n",
    "    total_mse_hist = []\n",
    "    fairness_hist = []\n",
    "    \n",
    "    val_loss_hist = []\n",
    "    val_total_mse_hist = []\n",
    "    val_fairness_hist = []\n",
    "    \n",
    "    \n",
    "    tmp_best_model = None\n",
    "    best_loss_val = 1000\n",
    "    #print('start of the training')\n",
    "    \n",
    "    \n",
    "    \n",
    "    for epoch in range(epochs):\n",
    "        t1=time()\n",
    "        for x, y, classes in tqdm_notebook(trainloader):\n",
    "            x=x.to(device)\n",
    "            y=y.view(y.shape[0],1).to(device)\n",
    "            optimiser.zero_grad()\n",
    "            outputs = model.forward(x)\n",
    "            loss, total_mse, protected_mse = criterion(outputs, y, classes, model.named_parameters())\n",
    "            \n",
    "            \n",
    "            \n",
    "            loss.backward()# back props\n",
    "            optimiser.step()# update the parameters\n",
    "        \n",
    "        \n",
    "        outputs_all = model.forward(inputs_all)        \n",
    "        loss, total_mse, protected_mse = criterion(outputs_all, labels_all, classes_all)\n",
    "        \n",
    "        \n",
    "        \n",
    "        loss_hist.append(loss)\n",
    "        total_mse_hist.append(total_mse)\n",
    "        fairness_hist.append((total_mse-protected_mse)**2)\n",
    "\n",
    "        #print('TRAINING')\n",
    "        #print(\"epoch: {}, Total MSE: {}, Fairness: {}, loss: {}\".format(epoch, total_mse, alpha*(protected_mse-total_mse)**2, loss))\n",
    "        \n",
    "        \n",
    "        outputs_all_val = model.forward(inputs_all_val)\n",
    "        loss_val, total_mse_val, protected_mse_val = criterion(outputs_all_val, labels_all_val, classes_all_val)\n",
    "        \n",
    "        val_loss_hist.append(loss_val)\n",
    "        val_total_mse_hist.append(total_mse_val)\n",
    "        val_fairness_hist.append((total_mse_val-protected_mse_val)**2)\n",
    "       \n",
    "        if loss_val < best_loss_val:\n",
    "            #print('New best model!')           \n",
    "            tmp_best_model = deepcopy(model)\n",
    "            \n",
    "            best_loss_val = loss_val\n",
    "\n",
    "            best_train={'loss': loss, 'total_mse':total_mse, 'protected_mse': protected_mse}\n",
    "            best_val={'loss':loss_val, 'total_mse':total_mse_val, 'protected_mse': protected_mse_val}        \n",
    "        \n",
    "    t2=time()\n",
    "    print('full run ', t2-t1)\n",
    "    return (tmp_best_model, \n",
    "        best_train, \n",
    "        best_val, \n",
    "        (loss_hist, total_mse_hist, fairness_hist), \n",
    "        (val_loss_hist, val_total_mse_hist, val_fairness_hist))"
   ]
  },
  {
   "cell_type": "code",
   "execution_count": null,
   "metadata": {
    "collapsed": false
   },
   "outputs": [],
   "source": []
  },
  {
   "cell_type": "code",
   "execution_count": 102,
   "metadata": {
    "collapsed": false,
    "scrolled": true
   },
   "outputs": [
    {
     "ename": "KeyboardInterrupt",
     "evalue": "",
     "output_type": "error",
     "traceback": [
      "\u001b[1;31m---------------------------------------------------------------------------\u001b[0m",
      "\u001b[1;31mKeyboardInterrupt\u001b[0m                         Traceback (most recent call last)",
      "\u001b[1;32m<ipython-input-102-a7f38b031143>\u001b[0m in \u001b[0;36m<module>\u001b[1;34m()\u001b[0m\n\u001b[0;32m      4\u001b[0m                                                                        \u001b[0mmodel\u001b[0m \u001b[1;33m=\u001b[0m \u001b[0mmodel\u001b[0m\u001b[1;33m,\u001b[0m\u001b[1;33m\u001b[0m\u001b[0m\n\u001b[0;32m      5\u001b[0m                                                                        \u001b[0mepochs\u001b[0m \u001b[1;33m=\u001b[0m \u001b[1;36m10\u001b[0m\u001b[1;33m,\u001b[0m\u001b[1;33m\u001b[0m\u001b[0m\n\u001b[1;32m----> 6\u001b[1;33m                                                                       L1=1)\n\u001b[0m",
      "\u001b[1;32m<ipython-input-86-77c53e9d9ae5>\u001b[0m in \u001b[0;36mfit_model\u001b[1;34m(X_train, y_train, protected_class, X_val, y_val, protected_class_val, model, alpha, batch_size, lr, epochs, device, L1, L2)\u001b[0m\n\u001b[0;32m     51\u001b[0m \u001b[1;33m\u001b[0m\u001b[0m\n\u001b[0;32m     52\u001b[0m \u001b[1;33m\u001b[0m\u001b[0m\n\u001b[1;32m---> 53\u001b[1;33m             \u001b[0mloss\u001b[0m\u001b[1;33m.\u001b[0m\u001b[0mbackward\u001b[0m\u001b[1;33m(\u001b[0m\u001b[1;33m)\u001b[0m\u001b[1;31m# back props\u001b[0m\u001b[1;33m\u001b[0m\u001b[0m\n\u001b[0m\u001b[0;32m     54\u001b[0m             \u001b[0moptimiser\u001b[0m\u001b[1;33m.\u001b[0m\u001b[0mstep\u001b[0m\u001b[1;33m(\u001b[0m\u001b[1;33m)\u001b[0m\u001b[1;31m# update the parameters\u001b[0m\u001b[1;33m\u001b[0m\u001b[0m\n\u001b[0;32m     55\u001b[0m \u001b[1;33m\u001b[0m\u001b[0m\n",
      "\u001b[1;32mC:\\Users\\simon\\Anaconda3\\lib\\site-packages\\torch\\tensor.py\u001b[0m in \u001b[0;36mbackward\u001b[1;34m(self, gradient, retain_graph, create_graph)\u001b[0m\n\u001b[0;32m     91\u001b[0m                 \u001b[0mproducts\u001b[0m\u001b[1;33m.\u001b[0m \u001b[0mDefaults\u001b[0m \u001b[0mto\u001b[0m\u001b[0;31m \u001b[0m\u001b[0;31m`\u001b[0m\u001b[0;31m`\u001b[0m\u001b[1;32mFalse\u001b[0m\u001b[0;31m`\u001b[0m\u001b[0;31m`\u001b[0m\u001b[1;33m.\u001b[0m\u001b[1;33m\u001b[0m\u001b[0m\n\u001b[0;32m     92\u001b[0m         \"\"\"\n\u001b[1;32m---> 93\u001b[1;33m         \u001b[0mtorch\u001b[0m\u001b[1;33m.\u001b[0m\u001b[0mautograd\u001b[0m\u001b[1;33m.\u001b[0m\u001b[0mbackward\u001b[0m\u001b[1;33m(\u001b[0m\u001b[0mself\u001b[0m\u001b[1;33m,\u001b[0m \u001b[0mgradient\u001b[0m\u001b[1;33m,\u001b[0m \u001b[0mretain_graph\u001b[0m\u001b[1;33m,\u001b[0m \u001b[0mcreate_graph\u001b[0m\u001b[1;33m)\u001b[0m\u001b[1;33m\u001b[0m\u001b[0m\n\u001b[0m\u001b[0;32m     94\u001b[0m \u001b[1;33m\u001b[0m\u001b[0m\n\u001b[0;32m     95\u001b[0m     \u001b[1;32mdef\u001b[0m \u001b[0mregister_hook\u001b[0m\u001b[1;33m(\u001b[0m\u001b[0mself\u001b[0m\u001b[1;33m,\u001b[0m \u001b[0mhook\u001b[0m\u001b[1;33m)\u001b[0m\u001b[1;33m:\u001b[0m\u001b[1;33m\u001b[0m\u001b[0m\n",
      "\u001b[1;32mC:\\Users\\simon\\Anaconda3\\lib\\site-packages\\torch\\autograd\\__init__.py\u001b[0m in \u001b[0;36mbackward\u001b[1;34m(tensors, grad_tensors, retain_graph, create_graph, grad_variables)\u001b[0m\n\u001b[0;32m     88\u001b[0m     Variable._execution_engine.run_backward(\n\u001b[0;32m     89\u001b[0m         \u001b[0mtensors\u001b[0m\u001b[1;33m,\u001b[0m \u001b[0mgrad_tensors\u001b[0m\u001b[1;33m,\u001b[0m \u001b[0mretain_graph\u001b[0m\u001b[1;33m,\u001b[0m \u001b[0mcreate_graph\u001b[0m\u001b[1;33m,\u001b[0m\u001b[1;33m\u001b[0m\u001b[0m\n\u001b[1;32m---> 90\u001b[1;33m         allow_unreachable=True)  # allow_unreachable flag\n\u001b[0m\u001b[0;32m     91\u001b[0m \u001b[1;33m\u001b[0m\u001b[0m\n\u001b[0;32m     92\u001b[0m \u001b[1;33m\u001b[0m\u001b[0m\n",
      "\u001b[1;31mKeyboardInterrupt\u001b[0m: "
     ]
    }
   ],
   "source": [
    "model = MLP(X_train.shape[1])\n",
    "tmp_best_model, best_train, best_val, train_hist,val_hist =  fit_model(X_train, y_train, protected_train['Hispanic'],\n",
    "                                                                       X_val, y_val, protected_val['Hispanic'], \n",
    "                                                                       model = model,\n",
    "                                                                       epochs = 10,\n",
    "                                                                      L1=1)"
   ]
  },
  {
   "cell_type": "code",
   "execution_count": 103,
   "metadata": {
    "collapsed": false
   },
   "outputs": [],
   "source": [
    "models = [LinearRegressionPytorch(X_train.shape[1]), MLP(X_train.shape[1])]\n",
    "alphas = [0,5,10,15,20]"
   ]
  },
  {
   "cell_type": "markdown",
   "metadata": {},
   "source": [
    "## Without Regularization"
   ]
  },
  {
   "cell_type": "code",
   "execution_count": null,
   "metadata": {
    "collapsed": false,
    "scrolled": true
   },
   "outputs": [],
   "source": [
    "fit_linear = []\n",
    "fairness_linear = []\n",
    "fit_MLP = []\n",
    "fairness_MLP = []\n",
    "\n",
    "for model_type, model in enumerate(models):\n",
    "    for alpha in alphas:\n",
    "        print('')\n",
    "        print('training of model ', model._get_name())\n",
    "        \n",
    "        print('alpha : ', alpha)\n",
    "        tmp_best_model, best_train, best_val, train_hist, val_hist =  fit_model(X_train, y_train, protected_train['Hispanic'],\n",
    "                                                                                X_val, y_val, protected_val['Hispanic'], \n",
    "                                                                                model = model,\n",
    "                                                                                alpha = alpha,\n",
    "                                                                                epochs = 50)\n",
    "        \n",
    "        fairness = (best_val['total_mse']-best_val['protected_mse'])**2\n",
    "        fairness = fairness.detach().numpy()\n",
    "        \n",
    "        if model_type == 0:\n",
    "            fit_linear.append(tmp_best_model)\n",
    "            fairness_linear.append(fairness)\n",
    "        else:\n",
    "            fit_MLP.append(tmp_best_model)\n",
    "            fairness_MLP.append(fairness)\n",
    "            \n"
   ]
  },
  {
   "cell_type": "markdown",
   "metadata": {
    "collapsed": false
   },
   "source": [
    "## With L1 Regularization"
   ]
  },
  {
   "cell_type": "code",
   "execution_count": null,
   "metadata": {
    "collapsed": false
   },
   "outputs": [
    {
     "name": "stdout",
     "output_type": "stream",
     "text": [
      "\n",
      "training of model  LinearRegressionPytorch\n",
      "alpha :  0\n"
     ]
    }
   ],
   "source": [
    "fit_linear_L1 = []\n",
    "fairness_linear_L1 = []\n",
    "fit_MLP_L1 = []\n",
    "fairness_MLP_L1 = []\n",
    "\n",
    "for model_type, model in enumerate(models):\n",
    "    for alpha in alphas:\n",
    "        print('')\n",
    "        print('training of model ', model._get_name())\n",
    "        \n",
    "        print('alpha : ', alpha)\n",
    "        tmp_best_model, best_train, best_val, train_hist, val_hist =  fit_model(X_train, y_train, protected_train['Hispanic'],\n",
    "                                                                                X_val, y_val, protected_val['Hispanic'], \n",
    "                                                                                model = model,\n",
    "                                                                                alpha = alpha,\n",
    "                                                                                epochs = 50,\n",
    "                                                                               L1=1)\n",
    "        \n",
    "        fairness = (best_val['total_mse']-best_val['protected_mse'])**2\n",
    "        fairness = fairness.detach().numpy()\n",
    "        \n",
    "        if model_type == 0:\n",
    "            fit_linear_L1.append(tmp_best_model)\n",
    "            fairness_linear_L1.append(fairness)\n",
    "        else:\n",
    "            fit_MLP_L1.append(tmp_best_model)\n",
    "            fairness_MLP_L1.append(fairness)\n",
    "            \n"
   ]
  },
  {
   "cell_type": "markdown",
   "metadata": {},
   "source": [
    "## With L2 Regularization"
   ]
  },
  {
   "cell_type": "code",
   "execution_count": null,
   "metadata": {
    "collapsed": true
   },
   "outputs": [],
   "source": [
    "fit_linear_L2 = []\n",
    "fairness_linear_L2 = []\n",
    "fit_MLP_L2 = []\n",
    "fairness_MLP_L2 = []\n",
    "\n",
    "for model_type, model in enumerate(models):\n",
    "    for alpha in alphas:\n",
    "        print('')\n",
    "        print('training of model ', model._get_name())\n",
    "        \n",
    "        print('alpha : ', alpha)\n",
    "        tmp_best_model, best_train, best_val, train_hist, val_hist =  fit_model(X_train, y_train, protected_train['Hispanic'],\n",
    "                                                                                X_val, y_val, protected_val['Hispanic'], \n",
    "                                                                                model = model,\n",
    "                                                                                alpha = alpha,\n",
    "                                                                                epochs = 50,\n",
    "                                                                               L1=1)\n",
    "        \n",
    "        fairness = (best_val['total_mse']-best_val['protected_mse'])**2\n",
    "        fairness = fairness.detach().numpy()\n",
    "        \n",
    "        if model_type == 0:\n",
    "            fit_linear_L2.append(tmp_best_model)\n",
    "            fairness_linear_L2.append(fairness)\n",
    "        else:\n",
    "            fit_MLP_L1.append(tmp_best_model)\n",
    "            fairness_MLP_L2.append(fairness)\n",
    "            \n"
   ]
  }
 ],
 "metadata": {
  "kernelspec": {
   "display_name": "Python 3",
   "language": "python",
   "name": "python3"
  }
 },
 "nbformat": 4,
 "nbformat_minor": 0
}
