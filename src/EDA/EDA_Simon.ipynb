{
 "cells": [
  {
   "cell_type": "markdown",
   "metadata": {},
   "source": [
    "## Data Cleaning\n",
    "\n",
    "We will perform an analysis of the features present "
   ]
  },
  {
   "cell_type": "code",
   "execution_count": null,
   "metadata": {
    "collapsed": true
   },
   "outputs": [],
   "source": []
  },
  {
   "cell_type": "code",
   "execution_count": null,
   "metadata": {
    "collapsed": true
   },
   "outputs": [],
   "source": []
  },
  {
   "cell_type": "markdown",
   "metadata": {},
   "source": [
    "** Basic imports **"
   ]
  },
  {
   "cell_type": "code",
   "execution_count": 1,
   "metadata": {
    "collapsed": false
   },
   "outputs": [],
   "source": [
    "%matplotlib inline\n",
    "import numpy as np\n",
    "import numpy.random as nd\n",
    "import pandas as pd\n",
    "import math\n",
    "import matplotlib.pyplot as plt\n",
    "\n",
    "import os\n",
    "import seaborn as sns\n",
    "sns.set(style=\"darkgrid\")\n",
    "\n",
    "from sklearn.linear_model import LogisticRegressionCV\n",
    "from sklearn.model_selection import cross_val_score\n",
    "from sklearn.metrics import accuracy_score\n",
    "from sklearn.metrics import confusion_matrix\n",
    "from sklearn.preprocessing import Imputer\n",
    "from sklearn.metrics import mean_squared_error\n",
    "from sklearn.model_selection import train_test_split\n",
    "from IPython.display import display\n",
    "\n",
    "\n",
    "from collections import Counter\n"
   ]
  },
  {
   "cell_type": "markdown",
   "metadata": {},
   "source": [
    "** load data **\n",
    "\n",
    "Here we are using a small toy dataset to explore the data"
   ]
  },
  {
   "cell_type": "code",
   "execution_count": 2,
   "metadata": {
    "collapsed": false
   },
   "outputs": [
    {
     "name": "stderr",
     "output_type": "stream",
     "text": [
      "C:\\Users\\simon\\Anaconda3\\lib\\site-packages\\IPython\\core\\interactiveshell.py:2902: DtypeWarning: Columns (19,47,55,112,123,124,125,128,129,130,133,139,140,141) have mixed types. Specify dtype option on import or set low_memory=False.\n",
      "  interactivity=interactivity, compiler=compiler, result=result)\n"
     ]
    }
   ],
   "source": [
    "inputFile='../../data/smallData/rawData/AcceptedLoans.csv'\n",
    "outputFile = '../../data/tmp/Simon/AcceptedLoans.csv'\n",
    "data=pd.read_csv(inputFile)"
   ]
  },
  {
   "cell_type": "code",
   "execution_count": null,
   "metadata": {
    "collapsed": true
   },
   "outputs": [],
   "source": []
  },
  {
   "cell_type": "code",
   "execution_count": 3,
   "metadata": {
    "collapsed": false
   },
   "outputs": [
    {
     "data": {
      "text/plain": [
       "(103496, 145)"
      ]
     },
     "execution_count": 3,
     "metadata": {},
     "output_type": "execute_result"
    }
   ],
   "source": [
    "data.shape"
   ]
  },
  {
   "cell_type": "markdown",
   "metadata": {},
   "source": [
    "** check the type of the data series**"
   ]
  },
  {
   "cell_type": "code",
   "execution_count": 4,
   "metadata": {
    "collapsed": false,
    "scrolled": true
   },
   "outputs": [
    {
     "data": {
      "text/plain": [
       "id                                            float64\n",
       "member_id                                     float64\n",
       "loan_amnt                                       int64\n",
       "funded_amnt                                     int64\n",
       "funded_amnt_inv                               float64\n",
       "term                                           object\n",
       "int_rate                                       object\n",
       "installment                                   float64\n",
       "grade                                          object\n",
       "sub_grade                                      object\n",
       "emp_title                                      object\n",
       "emp_length                                     object\n",
       "home_ownership                                 object\n",
       "annual_inc                                    float64\n",
       "verification_status                            object\n",
       "issue_d                                        object\n",
       "loan_status                                    object\n",
       "pymnt_plan                                     object\n",
       "url                                           float64\n",
       "desc                                           object\n",
       "purpose                                        object\n",
       "title                                          object\n",
       "zip_code                                       object\n",
       "addr_state                                     object\n",
       "dti                                           float64\n",
       "delinq_2yrs                                     int64\n",
       "earliest_cr_line                               object\n",
       "inq_last_6mths                                  int64\n",
       "mths_since_last_delinq                        float64\n",
       "mths_since_last_record                        float64\n",
       "                                               ...   \n",
       "sec_app_open_acc                              float64\n",
       "sec_app_revol_util                            float64\n",
       "sec_app_open_act_il                           float64\n",
       "sec_app_num_rev_accts                         float64\n",
       "sec_app_chargeoff_within_12_mths              float64\n",
       "sec_app_collections_12_mths_ex_med            float64\n",
       "sec_app_mths_since_last_major_derog           float64\n",
       "hardship_flag                                  object\n",
       "hardship_type                                  object\n",
       "hardship_reason                                object\n",
       "hardship_status                                object\n",
       "deferral_term                                 float64\n",
       "hardship_amount                               float64\n",
       "hardship_start_date                            object\n",
       "hardship_end_date                              object\n",
       "payment_plan_start_date                        object\n",
       "hardship_length                               float64\n",
       "hardship_dpd                                  float64\n",
       "hardship_loan_status                           object\n",
       "orig_projected_additional_accrued_interest    float64\n",
       "hardship_payoff_balance_amount                float64\n",
       "hardship_last_payment_amount                  float64\n",
       "disbursement_method                            object\n",
       "debt_settlement_flag                           object\n",
       "debt_settlement_flag_date                      object\n",
       "settlement_status                              object\n",
       "settlement_date                                object\n",
       "settlement_amount                             float64\n",
       "settlement_percentage                         float64\n",
       "settlement_term                               float64\n",
       "Length: 145, dtype: object"
      ]
     },
     "execution_count": 4,
     "metadata": {},
     "output_type": "execute_result"
    }
   ],
   "source": [
    "data.dtypes"
   ]
  },
  {
   "cell_type": "markdown",
   "metadata": {},
   "source": [
    "Check the type of data"
   ]
  },
  {
   "cell_type": "code",
   "execution_count": 5,
   "metadata": {
    "collapsed": false,
    "scrolled": false
   },
   "outputs": [
    {
     "data": {
      "text/plain": [
       "Text(0.5,1,'types encountered in the dataset')"
      ]
     },
     "execution_count": 5,
     "metadata": {},
     "output_type": "execute_result"
    },
    {
     "data": {
      "image/png": "[encoded data removed]",
      "text/plain": [
       "<matplotlib.figure.Figure at 0x1e08811b358>"
      ]
     },
     "metadata": {},
     "output_type": "display_data"
    }
   ],
   "source": [
    "types=data.dtypes\n",
    "\n",
    "typesSeen=[]\n",
    "for t in types:\n",
    "    if not t in typesSeen:\n",
    "        typesSeen+=[t]\n",
    "\n",
    "counts=[]\n",
    "for t in typesSeen:\n",
    "    counts+= [(types==t).sum()]\n",
    "\n",
    "plt.bar(range(len(counts)), counts)\n",
    "plt.xticks(range(len(counts)), typesSeen)\n",
    "plt.title('types encountered in the dataset')"
   ]
  },
  {
   "cell_type": "code",
   "execution_count": 6,
   "metadata": {
    "collapsed": false
   },
   "outputs": [
    {
     "data": {
      "text/plain": [
       "[96, 11, 38]"
      ]
     },
     "execution_count": 6,
     "metadata": {},
     "output_type": "execute_result"
    }
   ],
   "source": [
    "counts"
   ]
  },
  {
   "cell_type": "code",
   "execution_count": null,
   "metadata": {
    "collapsed": false
   },
   "outputs": [],
   "source": []
  },
  {
   "cell_type": "markdown",
   "metadata": {},
   "source": [
    "## CLEAN THE OBJECT FEATURES"
   ]
  },
  {
   "cell_type": "markdown",
   "metadata": {},
   "source": [
    "  "
   ]
  },
  {
   "cell_type": "code",
   "execution_count": 7,
   "metadata": {
    "collapsed": false,
    "scrolled": true
   },
   "outputs": [],
   "source": [
    "objFeatures=types[types=='object'].keys()\n"
   ]
  },
  {
   "cell_type": "code",
   "execution_count": 8,
   "metadata": {
    "collapsed": false,
    "scrolled": true
   },
   "outputs": [
    {
     "name": "stdout",
     "output_type": "stream",
     "text": [
      "object features : 38 entries\n",
      "['term', 'int_rate', 'grade', 'sub_grade', 'emp_title', 'emp_length', 'home_ownership', 'verification_status', 'issue_d', 'loan_status', 'pymnt_plan', 'desc', 'purpose', 'title', 'zip_code', 'addr_state', 'earliest_cr_line', 'revol_util', 'initial_list_status', 'last_pymnt_d', 'next_pymnt_d', 'last_credit_pull_d', 'application_type', 'verification_status_joint', 'sec_app_earliest_cr_line', 'hardship_flag', 'hardship_type', 'hardship_reason', 'hardship_status', 'hardship_start_date', 'hardship_end_date', 'payment_plan_start_date', 'hardship_loan_status', 'disbursement_method', 'debt_settlement_flag', 'debt_settlement_flag_date', 'settlement_status', 'settlement_date']\n"
     ]
    }
   ],
   "source": [
    "print('object features : {} entries'.format(len(objFeatures)))\n",
    "print(list(objFeatures))\n"
   ]
  },
  {
   "cell_type": "markdown",
   "metadata": {},
   "source": [
    "* id\n",
    "\n",
    "Id is indeed a float feature, I just put it here for demo\n",
    "\n",
    "1- Outline\n",
    "\n",
    "We will proove that `id` is an empty attribute and remove it from the dataset\n",
    "\n",
    "2- Analysis"
   ]
  },
  {
   "cell_type": "code",
   "execution_count": 9,
   "metadata": {
    "collapsed": false
   },
   "outputs": [],
   "source": [
    "vals_id = data['id']\n",
    "number_of_null_entries = vals_id.isnull().count()\n",
    "number_of_entries = vals_id.shape[0]"
   ]
  },
  {
   "cell_type": "code",
   "execution_count": 10,
   "metadata": {
    "collapsed": false
   },
   "outputs": [
    {
     "name": "stdout",
     "output_type": "stream",
     "text": [
      "103496 empty values over 103496 entries\n",
      "ratio 100.0%\n"
     ]
    }
   ],
   "source": [
    "print('{} empty values over {} entries'.format(number_of_null_entries, number_of_entries))\n",
    "print('ratio {}%'.format(number_of_null_entries/number_of_entries *100))"
   ]
  },
  {
   "cell_type": "markdown",
   "metadata": {},
   "source": [
    "3- Conclusion \n",
    "\n",
    "`id` is an empty attribute, we can remove it"
   ]
  },
  {
   "cell_type": "code",
   "execution_count": 11,
   "metadata": {
    "collapsed": false
   },
   "outputs": [],
   "source": [
    "data=data.drop('id', axis=1)"
   ]
  },
  {
   "cell_type": "code",
   "execution_count": null,
   "metadata": {
    "collapsed": false
   },
   "outputs": [],
   "source": []
  },
  {
   "cell_type": "markdown",
   "metadata": {},
   "source": [
    "- term\n",
    "\n",
    "1- Outline\n",
    "\n",
    "It can take either 36 or 60 months. It seems to fit perfectly to a categorical variable, 0 or 1.\n",
    "0 for 36 months and 1 for 60 months\n",
    "\n",
    "2- Analysis"
   ]
  },
  {
   "cell_type": "code",
   "execution_count": 12,
   "metadata": {
    "collapsed": false,
    "scrolled": true
   },
   "outputs": [
    {
     "data": {
      "text/plain": [
       " 36 months    73600\n",
       " 60 months    29896\n",
       "Name: term, dtype: int64"
      ]
     },
     "execution_count": 12,
     "metadata": {},
     "output_type": "execute_result"
    }
   ],
   "source": [
    "data['term'].value_counts()"
   ]
  },
  {
   "cell_type": "code",
   "execution_count": null,
   "metadata": {
    "collapsed": false
   },
   "outputs": [],
   "source": []
  },
  {
   "cell_type": "code",
   "execution_count": 13,
   "metadata": {
    "collapsed": false
   },
   "outputs": [],
   "source": [
    "from pandas.api.types import CategoricalDtype\n",
    "\n",
    "t = CategoricalDtype(categories=[\" 36 months\", \" 60 months\"], ordered=True)\n",
    "te=  data.term.astype(t)\n",
    "data['term']=te.cat.codes"
   ]
  },
  {
   "cell_type": "code",
   "execution_count": 14,
   "metadata": {
    "collapsed": false
   },
   "outputs": [
    {
     "data": {
      "text/plain": [
       "0    0\n",
       "1    1\n",
       "2    0\n",
       "3    0\n",
       "4    1\n",
       "Name: term, dtype: int8"
      ]
     },
     "execution_count": 14,
     "metadata": {},
     "output_type": "execute_result"
    }
   ],
   "source": [
    "data['term'].head()"
   ]
  },
  {
   "cell_type": "markdown",
   "metadata": {
    "collapsed": false
   },
   "source": [
    "3- Conclusion\n",
    "\n",
    "The data.term is now a binary feature taking 0 or 1"
   ]
  },
  {
   "cell_type": "code",
   "execution_count": null,
   "metadata": {
    "collapsed": false
   },
   "outputs": [],
   "source": []
  },
  {
   "cell_type": "markdown",
   "metadata": {},
   "source": [
    "* int_rate\n",
    "\n",
    "1- Outline\n",
    "\n",
    "it is a percentage, we will convert it into a float, between 0 and 100\n",
    "\n",
    "2- Analysis"
   ]
  },
  {
   "cell_type": "code",
   "execution_count": 15,
   "metadata": {
    "collapsed": true
   },
   "outputs": [],
   "source": [
    "def convertIntRate(s):\n",
    "    \"\"\"\n",
    "    input : string of int_rate\n",
    "    output : float between 0 and 100 corresponding to the interest rate\n",
    "    \"\"\"\n",
    "    without_percent = s[:-1]\n",
    "    number =float(without_percent)\n",
    "    return(number)"
   ]
  },
  {
   "cell_type": "code",
   "execution_count": 16,
   "metadata": {
    "collapsed": false
   },
   "outputs": [],
   "source": [
    "data['int_rate']= data['int_rate'].apply(convertIntRate)"
   ]
  },
  {
   "cell_type": "markdown",
   "metadata": {},
   "source": [
    "3- Conclusion\n",
    "\n",
    "the column has been modified"
   ]
  },
  {
   "cell_type": "code",
   "execution_count": 17,
   "metadata": {
    "collapsed": false
   },
   "outputs": [
    {
     "data": {
      "text/plain": [
       "dtype('float64')"
      ]
     },
     "execution_count": 17,
     "metadata": {},
     "output_type": "execute_result"
    }
   ],
   "source": [
    "data['int_rate'].dtype"
   ]
  },
  {
   "cell_type": "code",
   "execution_count": null,
   "metadata": {
    "collapsed": true
   },
   "outputs": [],
   "source": []
  },
  {
   "cell_type": "markdown",
   "metadata": {},
   "source": [
    "* grade\n",
    "\n",
    "1- Outline\n",
    "\n",
    "This is a categorical variable with 7 levels, we will use dummy encoding\n",
    "\n",
    "2- Analysis"
   ]
  },
  {
   "cell_type": "code",
   "execution_count": 18,
   "metadata": {
    "collapsed": false
   },
   "outputs": [
    {
     "data": {
      "text/plain": [
       "Counter({'A': 25812,\n",
       "         'B': 31279,\n",
       "         'C': 25087,\n",
       "         'D': 14426,\n",
       "         'E': 5041,\n",
       "         'F': 1460,\n",
       "         'G': 391})"
      ]
     },
     "execution_count": 18,
     "metadata": {},
     "output_type": "execute_result"
    }
   ],
   "source": [
    "Counter(data['grade'])"
   ]
  },
  {
   "cell_type": "code",
   "execution_count": 19,
   "metadata": {
    "collapsed": false
   },
   "outputs": [],
   "source": [
    "dummies = pd.get_dummies(data['grade'], prefix='grade')"
   ]
  },
  {
   "cell_type": "code",
   "execution_count": 20,
   "metadata": {
    "collapsed": false
   },
   "outputs": [],
   "source": [
    "data=pd.concat([data, dummies], axis=1)\n"
   ]
  },
  {
   "cell_type": "code",
   "execution_count": 21,
   "metadata": {
    "collapsed": false
   },
   "outputs": [],
   "source": [
    "data=data.drop('grade', axis=1)"
   ]
  },
  {
   "cell_type": "markdown",
   "metadata": {},
   "source": [
    "3- Conclusion\n",
    "\n",
    "We removed the attribute grade and added grade_A, ..."
   ]
  },
  {
   "cell_type": "code",
   "execution_count": 22,
   "metadata": {
    "collapsed": false,
    "scrolled": true
   },
   "outputs": [
    {
     "data": {
      "text/html": [
       "<div>\n",
       "<style scoped>\n",
       "    .dataframe tbody tr th:only-of-type {\n",
       "        vertical-align: middle;\n",
       "    }\n",
       "\n",
       "    .dataframe tbody tr th {\n",
       "        vertical-align: top;\n",
       "    }\n",
       "\n",
       "    .dataframe thead th {\n",
       "        text-align: right;\n",
       "    }\n",
       "</style>\n",
       "<table border=\"1\" class=\"dataframe\">\n",
       "  <thead>\n",
       "    <tr style=\"text-align: right;\">\n",
       "      <th></th>\n",
       "      <th>grade_A</th>\n",
       "      <th>grade_B</th>\n",
       "      <th>grade_C</th>\n",
       "      <th>grade_D</th>\n",
       "      <th>grade_E</th>\n",
       "      <th>grade_F</th>\n",
       "      <th>grade_G</th>\n",
       "    </tr>\n",
       "  </thead>\n",
       "  <tbody>\n",
       "    <tr>\n",
       "      <th>0</th>\n",
       "      <td>0</td>\n",
       "      <td>1</td>\n",
       "      <td>0</td>\n",
       "      <td>0</td>\n",
       "      <td>0</td>\n",
       "      <td>0</td>\n",
       "      <td>0</td>\n",
       "    </tr>\n",
       "    <tr>\n",
       "      <th>1</th>\n",
       "      <td>0</td>\n",
       "      <td>0</td>\n",
       "      <td>1</td>\n",
       "      <td>0</td>\n",
       "      <td>0</td>\n",
       "      <td>0</td>\n",
       "      <td>0</td>\n",
       "    </tr>\n",
       "    <tr>\n",
       "      <th>2</th>\n",
       "      <td>0</td>\n",
       "      <td>0</td>\n",
       "      <td>1</td>\n",
       "      <td>0</td>\n",
       "      <td>0</td>\n",
       "      <td>0</td>\n",
       "      <td>0</td>\n",
       "    </tr>\n",
       "    <tr>\n",
       "      <th>3</th>\n",
       "      <td>0</td>\n",
       "      <td>0</td>\n",
       "      <td>1</td>\n",
       "      <td>0</td>\n",
       "      <td>0</td>\n",
       "      <td>0</td>\n",
       "      <td>0</td>\n",
       "    </tr>\n",
       "    <tr>\n",
       "      <th>4</th>\n",
       "      <td>0</td>\n",
       "      <td>1</td>\n",
       "      <td>0</td>\n",
       "      <td>0</td>\n",
       "      <td>0</td>\n",
       "      <td>0</td>\n",
       "      <td>0</td>\n",
       "    </tr>\n",
       "  </tbody>\n",
       "</table>\n",
       "</div>"
      ],
      "text/plain": [
       "   grade_A  grade_B  grade_C  grade_D  grade_E  grade_F  grade_G\n",
       "0        0        1        0        0        0        0        0\n",
       "1        0        0        1        0        0        0        0\n",
       "2        0        0        1        0        0        0        0\n",
       "3        0        0        1        0        0        0        0\n",
       "4        0        1        0        0        0        0        0"
      ]
     },
     "execution_count": 22,
     "metadata": {},
     "output_type": "execute_result"
    }
   ],
   "source": [
    "data[['grade_A', 'grade_B','grade_C','grade_D','grade_E','grade_F','grade_G']].head()"
   ]
  },
  {
   "cell_type": "code",
   "execution_count": null,
   "metadata": {
    "collapsed": true
   },
   "outputs": [],
   "source": []
  },
  {
   "cell_type": "markdown",
   "metadata": {},
   "source": [
    "* sub_grade\n",
    "\n",
    "1- Outline\n",
    "\n",
    "Sub-categories of grade. categorical variable of 7*5 entries.\n",
    "We could create 35 dummies but instead, we will give numerical values to the corresponding grade.\n",
    "\n",
    "Exemple:\n",
    "\n",
    "sub_grade = A1 --> grade_A=1\n",
    "\n",
    "sub_grade = D4 --> grade_D=4\n",
    "\n",
    "sub_grade = A3 --> grade_A=2\n",
    "\n",
    "2- Analysis"
   ]
  },
  {
   "cell_type": "code",
   "execution_count": null,
   "metadata": {
    "collapsed": false
   },
   "outputs": [],
   "source": []
  },
  {
   "cell_type": "code",
   "execution_count": 23,
   "metadata": {
    "collapsed": false
   },
   "outputs": [],
   "source": [
    "def embed_subGrade(df):\n",
    "    col, val = df['sub_grade'][0],df['sub_grade'][1]\n",
    "    df['grade_'+col]=val\n",
    "    return(df)"
   ]
  },
  {
   "cell_type": "code",
   "execution_count": null,
   "metadata": {
    "collapsed": false
   },
   "outputs": [],
   "source": []
  },
  {
   "cell_type": "code",
   "execution_count": 24,
   "metadata": {
    "collapsed": false,
    "scrolled": true
   },
   "outputs": [],
   "source": [
    "data = data.apply(embed_subGrade, axis=1)"
   ]
  },
  {
   "cell_type": "code",
   "execution_count": 25,
   "metadata": {
    "collapsed": false
   },
   "outputs": [],
   "source": [
    "data=data.drop('sub_grade', axis=1)"
   ]
  },
  {
   "cell_type": "markdown",
   "metadata": {},
   "source": [
    "3- Conclusion \n",
    "\n",
    "The sub_grades have been embedded in the grades"
   ]
  },
  {
   "cell_type": "code",
   "execution_count": 26,
   "metadata": {
    "collapsed": false,
    "scrolled": true
   },
   "outputs": [
    {
     "data": {
      "text/html": [
       "<div>\n",
       "<style scoped>\n",
       "    .dataframe tbody tr th:only-of-type {\n",
       "        vertical-align: middle;\n",
       "    }\n",
       "\n",
       "    .dataframe tbody tr th {\n",
       "        vertical-align: top;\n",
       "    }\n",
       "\n",
       "    .dataframe thead th {\n",
       "        text-align: right;\n",
       "    }\n",
       "</style>\n",
       "<table border=\"1\" class=\"dataframe\">\n",
       "  <thead>\n",
       "    <tr style=\"text-align: right;\">\n",
       "      <th></th>\n",
       "      <th>grade_A</th>\n",
       "      <th>grade_B</th>\n",
       "      <th>grade_C</th>\n",
       "      <th>grade_D</th>\n",
       "      <th>grade_E</th>\n",
       "      <th>grade_F</th>\n",
       "      <th>grade_G</th>\n",
       "    </tr>\n",
       "  </thead>\n",
       "  <tbody>\n",
       "    <tr>\n",
       "      <th>0</th>\n",
       "      <td>0</td>\n",
       "      <td>2</td>\n",
       "      <td>0</td>\n",
       "      <td>0</td>\n",
       "      <td>0</td>\n",
       "      <td>0</td>\n",
       "      <td>0</td>\n",
       "    </tr>\n",
       "    <tr>\n",
       "      <th>1</th>\n",
       "      <td>0</td>\n",
       "      <td>0</td>\n",
       "      <td>4</td>\n",
       "      <td>0</td>\n",
       "      <td>0</td>\n",
       "      <td>0</td>\n",
       "      <td>0</td>\n",
       "    </tr>\n",
       "    <tr>\n",
       "      <th>2</th>\n",
       "      <td>0</td>\n",
       "      <td>0</td>\n",
       "      <td>5</td>\n",
       "      <td>0</td>\n",
       "      <td>0</td>\n",
       "      <td>0</td>\n",
       "      <td>0</td>\n",
       "    </tr>\n",
       "    <tr>\n",
       "      <th>3</th>\n",
       "      <td>0</td>\n",
       "      <td>0</td>\n",
       "      <td>1</td>\n",
       "      <td>0</td>\n",
       "      <td>0</td>\n",
       "      <td>0</td>\n",
       "      <td>0</td>\n",
       "    </tr>\n",
       "    <tr>\n",
       "      <th>4</th>\n",
       "      <td>0</td>\n",
       "      <td>5</td>\n",
       "      <td>0</td>\n",
       "      <td>0</td>\n",
       "      <td>0</td>\n",
       "      <td>0</td>\n",
       "      <td>0</td>\n",
       "    </tr>\n",
       "  </tbody>\n",
       "</table>\n",
       "</div>"
      ],
      "text/plain": [
       "  grade_A grade_B grade_C grade_D grade_E grade_F grade_G\n",
       "0       0       2       0       0       0       0       0\n",
       "1       0       0       4       0       0       0       0\n",
       "2       0       0       5       0       0       0       0\n",
       "3       0       0       1       0       0       0       0\n",
       "4       0       5       0       0       0       0       0"
      ]
     },
     "execution_count": 26,
     "metadata": {},
     "output_type": "execute_result"
    }
   ],
   "source": [
    "data[['grade_A', 'grade_B','grade_C','grade_D','grade_E','grade_F','grade_G']].head()"
   ]
  },
  {
   "cell_type": "code",
   "execution_count": null,
   "metadata": {
    "collapsed": true
   },
   "outputs": [],
   "source": []
  },
  {
   "cell_type": "markdown",
   "metadata": {},
   "source": [
    "* emp_title\n",
    "\n",
    "Contains the name of the borrower'job , it does not seem to be a relevant feature for our analysis. We will remove it from the dataset"
   ]
  },
  {
   "cell_type": "code",
   "execution_count": 27,
   "metadata": {
    "collapsed": false
   },
   "outputs": [],
   "source": [
    "data=data.drop('emp_title', axis=1)"
   ]
  },
  {
   "cell_type": "code",
   "execution_count": null,
   "metadata": {
    "collapsed": false
   },
   "outputs": [],
   "source": []
  },
  {
   "cell_type": "markdown",
   "metadata": {},
   "source": [
    "* emp_length\n",
    "\n",
    "1- Outline\n",
    "\n",
    "Categorical variable, we embed it using replacement. See below.\n",
    "\n",
    "There are some missing values, we will not touch them first, but the fact that there are nan values, forces us to store this variable as float and not as int\n",
    "\n",
    "2- Analysis"
   ]
  },
  {
   "cell_type": "code",
   "execution_count": 28,
   "metadata": {
    "collapsed": false
   },
   "outputs": [
    {
     "data": {
      "text/plain": [
       "{nan: 6880,\n",
       " '9 years': 3043,\n",
       " '4 years': 7517,\n",
       " '2 years': 10470,\n",
       " '1 year': 7472,\n",
       " '< 1 year': 8837,\n",
       " '3 years': 9438,\n",
       " '5 years': 7284,\n",
       " '7 years': 4104,\n",
       " '10+ years': 29971,\n",
       " '8 years': 3445,\n",
       " '6 years': 5035}"
      ]
     },
     "execution_count": 28,
     "metadata": {},
     "output_type": "execute_result"
    }
   ],
   "source": [
    "dict(Counter(data['emp_length']))"
   ]
  },
  {
   "cell_type": "code",
   "execution_count": 29,
   "metadata": {
    "collapsed": false
   },
   "outputs": [],
   "source": [
    "length_to_int = dict()\n",
    "length_to_int['< 1 year']=0\n",
    "length_to_int['1 year']=1\n",
    "length_to_int['2 years']=2\n",
    "length_to_int['3 years']=3\n",
    "length_to_int['4 years']=4\n",
    "length_to_int['5 years']=5\n",
    "length_to_int['6 years']=6\n",
    "length_to_int['7 years']=7\n",
    "length_to_int['8 years']=8\n",
    "length_to_int['9 years']=9\n",
    "length_to_int['10+ years']=10"
   ]
  },
  {
   "cell_type": "code",
   "execution_count": 30,
   "metadata": {
    "collapsed": false
   },
   "outputs": [
    {
     "data": {
      "text/plain": [
       "{'1 year': 1,\n",
       " '10+ years': 10,\n",
       " '2 years': 2,\n",
       " '3 years': 3,\n",
       " '4 years': 4,\n",
       " '5 years': 5,\n",
       " '6 years': 6,\n",
       " '7 years': 7,\n",
       " '8 years': 8,\n",
       " '9 years': 9,\n",
       " '< 1 year': 0}"
      ]
     },
     "execution_count": 30,
     "metadata": {},
     "output_type": "execute_result"
    }
   ],
   "source": [
    "length_to_int"
   ]
  },
  {
   "cell_type": "code",
   "execution_count": 31,
   "metadata": {
    "collapsed": false
   },
   "outputs": [],
   "source": [
    "#store empty indexes\n",
    "emp_length_missing = data['emp_length'].isnull()"
   ]
  },
  {
   "cell_type": "code",
   "execution_count": 32,
   "metadata": {
    "collapsed": false
   },
   "outputs": [],
   "source": [
    "def embed_emp_length(s):\n",
    "    \"\"\"\n",
    "    convert the string emp_length into an integer\n",
    "    does not change the NaN input\n",
    "    \"\"\"\n",
    "    try:\n",
    "        return(length_to_int[s])\n",
    "    except:\n",
    "        pass\n",
    "        "
   ]
  },
  {
   "cell_type": "code",
   "execution_count": 33,
   "metadata": {
    "collapsed": false
   },
   "outputs": [],
   "source": [
    "data['emp_length']= data['emp_length'].apply(embed_emp_length)"
   ]
  },
  {
   "cell_type": "markdown",
   "metadata": {},
   "source": [
    "3- Conclusion\n",
    "\n",
    "We replaced the string inputs and did not modify the nan iputs"
   ]
  },
  {
   "cell_type": "code",
   "execution_count": 34,
   "metadata": {
    "collapsed": false,
    "scrolled": true
   },
   "outputs": [
    {
     "data": {
      "text/plain": [
       "0    10.0\n",
       "1     0.0\n",
       "2    10.0\n",
       "3    10.0\n",
       "4     1.0\n",
       "Name: emp_length, dtype: float64"
      ]
     },
     "execution_count": 34,
     "metadata": {},
     "output_type": "execute_result"
    }
   ],
   "source": [
    "data['emp_length'].head()"
   ]
  },
  {
   "cell_type": "code",
   "execution_count": null,
   "metadata": {
    "collapsed": true
   },
   "outputs": [],
   "source": []
  },
  {
   "cell_type": "markdown",
   "metadata": {},
   "source": [
    "* home_ownership\n",
    "\n",
    "categorical variable, we use dummy encoding on 4 levels : it is useless to add an extra variable for a predictor HOME_None that appears only 3 times..."
   ]
  },
  {
   "cell_type": "code",
   "execution_count": 35,
   "metadata": {
    "collapsed": false
   },
   "outputs": [
    {
     "data": {
      "text/plain": [
       "Counter({'ANY': 1,\n",
       "         'MORTGAGE': 48296,\n",
       "         'NONE': 3,\n",
       "         'OTHER': 98,\n",
       "         'OWN': 11421,\n",
       "         'RENT': 43677})"
      ]
     },
     "execution_count": 35,
     "metadata": {},
     "output_type": "execute_result"
    }
   ],
   "source": [
    "Counter(data['home_ownership'])"
   ]
  },
  {
   "cell_type": "code",
   "execution_count": 36,
   "metadata": {
    "collapsed": false
   },
   "outputs": [],
   "source": [
    "dum = pd.get_dummies(data['home_ownership'], prefix='HOME')\n",
    "data=pd.concat([data, dum], axis=1)"
   ]
  },
  {
   "cell_type": "code",
   "execution_count": 37,
   "metadata": {
    "collapsed": false
   },
   "outputs": [],
   "source": [
    "data = data.drop('home_ownership', axis=1)"
   ]
  },
  {
   "cell_type": "code",
   "execution_count": 38,
   "metadata": {
    "collapsed": true
   },
   "outputs": [],
   "source": [
    "# remove the HOME_NONE attribute\n",
    "data = data[data['HOME_NONE']==0]"
   ]
  },
  {
   "cell_type": "code",
   "execution_count": 39,
   "metadata": {
    "collapsed": false
   },
   "outputs": [],
   "source": [
    "data=data.drop('HOME_NONE', axis=1) #only 3 points\n",
    "data=data.drop('HOME_RENT', axis=1) #to avoid colinearity"
   ]
  },
  {
   "cell_type": "code",
   "execution_count": 40,
   "metadata": {
    "collapsed": false,
    "scrolled": true
   },
   "outputs": [
    {
     "data": {
      "text/html": [
       "<div>\n",
       "<style scoped>\n",
       "    .dataframe tbody tr th:only-of-type {\n",
       "        vertical-align: middle;\n",
       "    }\n",
       "\n",
       "    .dataframe tbody tr th {\n",
       "        vertical-align: top;\n",
       "    }\n",
       "\n",
       "    .dataframe thead th {\n",
       "        text-align: right;\n",
       "    }\n",
       "</style>\n",
       "<table border=\"1\" class=\"dataframe\">\n",
       "  <thead>\n",
       "    <tr style=\"text-align: right;\">\n",
       "      <th></th>\n",
       "      <th>HOME_MORTGAGE</th>\n",
       "      <th>HOME_OTHER</th>\n",
       "      <th>HOME_OWN</th>\n",
       "    </tr>\n",
       "  </thead>\n",
       "  <tbody>\n",
       "    <tr>\n",
       "      <th>0</th>\n",
       "      <td>0</td>\n",
       "      <td>0</td>\n",
       "      <td>0</td>\n",
       "    </tr>\n",
       "    <tr>\n",
       "      <th>1</th>\n",
       "      <td>0</td>\n",
       "      <td>0</td>\n",
       "      <td>0</td>\n",
       "    </tr>\n",
       "    <tr>\n",
       "      <th>2</th>\n",
       "      <td>0</td>\n",
       "      <td>0</td>\n",
       "      <td>0</td>\n",
       "    </tr>\n",
       "    <tr>\n",
       "      <th>3</th>\n",
       "      <td>0</td>\n",
       "      <td>0</td>\n",
       "      <td>0</td>\n",
       "    </tr>\n",
       "    <tr>\n",
       "      <th>4</th>\n",
       "      <td>0</td>\n",
       "      <td>0</td>\n",
       "      <td>0</td>\n",
       "    </tr>\n",
       "  </tbody>\n",
       "</table>\n",
       "</div>"
      ],
      "text/plain": [
       "   HOME_MORTGAGE  HOME_OTHER  HOME_OWN\n",
       "0              0           0         0\n",
       "1              0           0         0\n",
       "2              0           0         0\n",
       "3              0           0         0\n",
       "4              0           0         0"
      ]
     },
     "execution_count": 40,
     "metadata": {},
     "output_type": "execute_result"
    }
   ],
   "source": [
    "data[['HOME_MORTGAGE', 'HOME_OTHER', 'HOME_OWN']].head()"
   ]
  },
  {
   "cell_type": "code",
   "execution_count": null,
   "metadata": {
    "collapsed": true
   },
   "outputs": [],
   "source": []
  },
  {
   "cell_type": "markdown",
   "metadata": {},
   "source": [
    "* verification_status\n",
    "\n",
    "1- Outline\n",
    "\n",
    "Categorical variable, we will create dummy embeddings\n",
    "\n",
    "\n",
    "2- Analysis"
   ]
  },
  {
   "cell_type": "code",
   "execution_count": 41,
   "metadata": {
    "collapsed": false,
    "scrolled": true
   },
   "outputs": [
    {
     "data": {
      "text/plain": [
       "Counter({'Not Verified': 40990, 'Source Verified': 34714, 'Verified': 27789})"
      ]
     },
     "execution_count": 41,
     "metadata": {},
     "output_type": "execute_result"
    }
   ],
   "source": [
    "Counter(data['verification_status'])"
   ]
  },
  {
   "cell_type": "code",
   "execution_count": 42,
   "metadata": {
    "collapsed": false
   },
   "outputs": [],
   "source": [
    "dum = pd.get_dummies(data['verification_status'], prefix='Income')"
   ]
  },
  {
   "cell_type": "code",
   "execution_count": 43,
   "metadata": {
    "collapsed": false
   },
   "outputs": [
    {
     "data": {
      "text/plain": [
       "Index(['Income_Not Verified', 'Income_Source Verified', 'Income_Verified'], dtype='object')"
      ]
     },
     "execution_count": 43,
     "metadata": {},
     "output_type": "execute_result"
    }
   ],
   "source": [
    "dum.keys()"
   ]
  },
  {
   "cell_type": "code",
   "execution_count": 44,
   "metadata": {
    "collapsed": false
   },
   "outputs": [],
   "source": [
    "data=pd.concat([data, dum], axis=1)"
   ]
  },
  {
   "cell_type": "code",
   "execution_count": null,
   "metadata": {
    "collapsed": false,
    "scrolled": true
   },
   "outputs": [],
   "source": []
  },
  {
   "cell_type": "code",
   "execution_count": 45,
   "metadata": {
    "collapsed": true
   },
   "outputs": [],
   "source": [
    "data=data.drop('Income_Not Verified', axis=1) #to avoid colinearity"
   ]
  },
  {
   "cell_type": "code",
   "execution_count": null,
   "metadata": {
    "collapsed": true
   },
   "outputs": [],
   "source": []
  },
  {
   "cell_type": "markdown",
   "metadata": {},
   "source": [
    "3- Conclusion \n",
    "\n",
    "The new columns have been added, with correct name"
   ]
  },
  {
   "cell_type": "code",
   "execution_count": 46,
   "metadata": {
    "collapsed": false,
    "scrolled": true
   },
   "outputs": [
    {
     "data": {
      "text/html": [
       "<div>\n",
       "<style scoped>\n",
       "    .dataframe tbody tr th:only-of-type {\n",
       "        vertical-align: middle;\n",
       "    }\n",
       "\n",
       "    .dataframe tbody tr th {\n",
       "        vertical-align: top;\n",
       "    }\n",
       "\n",
       "    .dataframe thead th {\n",
       "        text-align: right;\n",
       "    }\n",
       "</style>\n",
       "<table border=\"1\" class=\"dataframe\">\n",
       "  <thead>\n",
       "    <tr style=\"text-align: right;\">\n",
       "      <th></th>\n",
       "      <th>member_id</th>\n",
       "      <th>loan_amnt</th>\n",
       "      <th>funded_amnt</th>\n",
       "      <th>funded_amnt_inv</th>\n",
       "      <th>term</th>\n",
       "      <th>int_rate</th>\n",
       "      <th>installment</th>\n",
       "      <th>emp_length</th>\n",
       "      <th>annual_inc</th>\n",
       "      <th>verification_status</th>\n",
       "      <th>...</th>\n",
       "      <th>grade_D</th>\n",
       "      <th>grade_E</th>\n",
       "      <th>grade_F</th>\n",
       "      <th>grade_G</th>\n",
       "      <th>HOME_ANY</th>\n",
       "      <th>HOME_MORTGAGE</th>\n",
       "      <th>HOME_OTHER</th>\n",
       "      <th>HOME_OWN</th>\n",
       "      <th>Income_Source Verified</th>\n",
       "      <th>Income_Verified</th>\n",
       "    </tr>\n",
       "  </thead>\n",
       "  <tbody>\n",
       "    <tr>\n",
       "      <th>0</th>\n",
       "      <td>NaN</td>\n",
       "      <td>5000</td>\n",
       "      <td>5000</td>\n",
       "      <td>4975.0</td>\n",
       "      <td>0</td>\n",
       "      <td>10.65</td>\n",
       "      <td>162.87</td>\n",
       "      <td>10.0</td>\n",
       "      <td>24000.0</td>\n",
       "      <td>Verified</td>\n",
       "      <td>...</td>\n",
       "      <td>0</td>\n",
       "      <td>0</td>\n",
       "      <td>0</td>\n",
       "      <td>0</td>\n",
       "      <td>0</td>\n",
       "      <td>0</td>\n",
       "      <td>0</td>\n",
       "      <td>0</td>\n",
       "      <td>0</td>\n",
       "      <td>1</td>\n",
       "    </tr>\n",
       "    <tr>\n",
       "      <th>1</th>\n",
       "      <td>NaN</td>\n",
       "      <td>2500</td>\n",
       "      <td>2500</td>\n",
       "      <td>2500.0</td>\n",
       "      <td>1</td>\n",
       "      <td>15.27</td>\n",
       "      <td>59.83</td>\n",
       "      <td>0.0</td>\n",
       "      <td>30000.0</td>\n",
       "      <td>Source Verified</td>\n",
       "      <td>...</td>\n",
       "      <td>0</td>\n",
       "      <td>0</td>\n",
       "      <td>0</td>\n",
       "      <td>0</td>\n",
       "      <td>0</td>\n",
       "      <td>0</td>\n",
       "      <td>0</td>\n",
       "      <td>0</td>\n",
       "      <td>1</td>\n",
       "      <td>0</td>\n",
       "    </tr>\n",
       "    <tr>\n",
       "      <th>2</th>\n",
       "      <td>NaN</td>\n",
       "      <td>2400</td>\n",
       "      <td>2400</td>\n",
       "      <td>2400.0</td>\n",
       "      <td>0</td>\n",
       "      <td>15.96</td>\n",
       "      <td>84.33</td>\n",
       "      <td>10.0</td>\n",
       "      <td>12252.0</td>\n",
       "      <td>Not Verified</td>\n",
       "      <td>...</td>\n",
       "      <td>0</td>\n",
       "      <td>0</td>\n",
       "      <td>0</td>\n",
       "      <td>0</td>\n",
       "      <td>0</td>\n",
       "      <td>0</td>\n",
       "      <td>0</td>\n",
       "      <td>0</td>\n",
       "      <td>0</td>\n",
       "      <td>0</td>\n",
       "    </tr>\n",
       "    <tr>\n",
       "      <th>3</th>\n",
       "      <td>NaN</td>\n",
       "      <td>10000</td>\n",
       "      <td>10000</td>\n",
       "      <td>10000.0</td>\n",
       "      <td>0</td>\n",
       "      <td>13.49</td>\n",
       "      <td>339.31</td>\n",
       "      <td>10.0</td>\n",
       "      <td>49200.0</td>\n",
       "      <td>Source Verified</td>\n",
       "      <td>...</td>\n",
       "      <td>0</td>\n",
       "      <td>0</td>\n",
       "      <td>0</td>\n",
       "      <td>0</td>\n",
       "      <td>0</td>\n",
       "      <td>0</td>\n",
       "      <td>0</td>\n",
       "      <td>0</td>\n",
       "      <td>1</td>\n",
       "      <td>0</td>\n",
       "    </tr>\n",
       "    <tr>\n",
       "      <th>4</th>\n",
       "      <td>NaN</td>\n",
       "      <td>3000</td>\n",
       "      <td>3000</td>\n",
       "      <td>3000.0</td>\n",
       "      <td>1</td>\n",
       "      <td>12.69</td>\n",
       "      <td>67.79</td>\n",
       "      <td>1.0</td>\n",
       "      <td>80000.0</td>\n",
       "      <td>Source Verified</td>\n",
       "      <td>...</td>\n",
       "      <td>0</td>\n",
       "      <td>0</td>\n",
       "      <td>0</td>\n",
       "      <td>0</td>\n",
       "      <td>0</td>\n",
       "      <td>0</td>\n",
       "      <td>0</td>\n",
       "      <td>0</td>\n",
       "      <td>1</td>\n",
       "      <td>0</td>\n",
       "    </tr>\n",
       "  </tbody>\n",
       "</table>\n",
       "<p>5 rows × 153 columns</p>\n",
       "</div>"
      ],
      "text/plain": [
       "   member_id  loan_amnt  funded_amnt  funded_amnt_inv  term  int_rate  \\\n",
       "0        NaN       5000         5000           4975.0     0     10.65   \n",
       "1        NaN       2500         2500           2500.0     1     15.27   \n",
       "2        NaN       2400         2400           2400.0     0     15.96   \n",
       "3        NaN      10000        10000          10000.0     0     13.49   \n",
       "4        NaN       3000         3000           3000.0     1     12.69   \n",
       "\n",
       "   installment  emp_length  annual_inc verification_status       ...         \\\n",
       "0       162.87        10.0     24000.0            Verified       ...          \n",
       "1        59.83         0.0     30000.0     Source Verified       ...          \n",
       "2        84.33        10.0     12252.0        Not Verified       ...          \n",
       "3       339.31        10.0     49200.0     Source Verified       ...          \n",
       "4        67.79         1.0     80000.0     Source Verified       ...          \n",
       "\n",
       "  grade_D grade_E grade_F  grade_G HOME_ANY HOME_MORTGAGE HOME_OTHER HOME_OWN  \\\n",
       "0       0       0       0        0        0             0          0        0   \n",
       "1       0       0       0        0        0             0          0        0   \n",
       "2       0       0       0        0        0             0          0        0   \n",
       "3       0       0       0        0        0             0          0        0   \n",
       "4       0       0       0        0        0             0          0        0   \n",
       "\n",
       "  Income_Source Verified  Income_Verified  \n",
       "0                      0                1  \n",
       "1                      1                0  \n",
       "2                      0                0  \n",
       "3                      1                0  \n",
       "4                      1                0  \n",
       "\n",
       "[5 rows x 153 columns]"
      ]
     },
     "execution_count": 46,
     "metadata": {},
     "output_type": "execute_result"
    }
   ],
   "source": [
    "data.head()"
   ]
  },
  {
   "cell_type": "code",
   "execution_count": null,
   "metadata": {
    "collapsed": true
   },
   "outputs": [],
   "source": []
  },
  {
   "cell_type": "markdown",
   "metadata": {},
   "source": [
    "* issue_d"
   ]
  },
  {
   "cell_type": "code",
   "execution_count": 164,
   "metadata": {
    "collapsed": true
   },
   "outputs": [],
   "source": [
    "def extract_day_and_month(s):\n",
    "    [x1,x2]=s.split('-')\n",
    "    try:\n",
    "        day=int(x1)\n",
    "        month=x2\n",
    "    except:\n",
    "        month=x1\n",
    "        day=int(x2)\n",
    "    return (day, month)"
   ]
  },
  {
   "cell_type": "code",
   "execution_count": 165,
   "metadata": {
    "collapsed": false
   },
   "outputs": [],
   "source": [
    "tupled = data['issue_d'].apply(extract_day_and_month)"
   ]
  },
  {
   "cell_type": "code",
   "execution_count": 183,
   "metadata": {
    "collapsed": false
   },
   "outputs": [],
   "source": [
    "extracted = list(zip(*(tupled.values )))"
   ]
  },
  {
   "cell_type": "code",
   "execution_count": 184,
   "metadata": {
    "collapsed": false
   },
   "outputs": [],
   "source": [
    "days, months = extracted[0], extracted[1]"
   ]
  },
  {
   "cell_type": "code",
   "execution_count": 188,
   "metadata": {
    "collapsed": false
   },
   "outputs": [],
   "source": [
    "data['issue_d_day']=days"
   ]
  },
  {
   "cell_type": "code",
   "execution_count": 190,
   "metadata": {
    "collapsed": false
   },
   "outputs": [],
   "source": [
    "data['issue_d_month']=months"
   ]
  },
  {
   "cell_type": "code",
   "execution_count": 191,
   "metadata": {
    "collapsed": true
   },
   "outputs": [],
   "source": [
    "data = data.drop('issue_d', axis=1)"
   ]
  },
  {
   "cell_type": "code",
   "execution_count": null,
   "metadata": {
    "collapsed": true
   },
   "outputs": [],
   "source": []
  },
  {
   "cell_type": "markdown",
   "metadata": {},
   "source": [
    "* loan_status\n",
    "\n",
    "1- Outline\n",
    "\n",
    "2-level categorical variable, we will create a categorical variable, 0 for fully paid and 1 for Charged Off"
   ]
  },
  {
   "cell_type": "code",
   "execution_count": 48,
   "metadata": {
    "collapsed": false
   },
   "outputs": [
    {
     "data": {
      "text/plain": [
       "Counter({'Charged Off': 5885,\n",
       "         'Current': 57940,\n",
       "         'Fully Paid': 38071,\n",
       "         'In Grace Period': 662,\n",
       "         'Late (16-30 days)': 239,\n",
       "         'Late (31-120 days)': 696})"
      ]
     },
     "execution_count": 48,
     "metadata": {},
     "output_type": "execute_result"
    }
   ],
   "source": [
    "Counter(data['loan_status'])"
   ]
  },
  {
   "cell_type": "code",
   "execution_count": 49,
   "metadata": {
    "collapsed": true
   },
   "outputs": [],
   "source": [
    "categories_loan_status = list(Counter(data['loan_status']).keys())"
   ]
  },
  {
   "cell_type": "code",
   "execution_count": 50,
   "metadata": {
    "collapsed": false
   },
   "outputs": [
    {
     "data": {
      "text/plain": [
       "['In Grace Period',\n",
       " 'Late (16-30 days)',\n",
       " 'Late (31-120 days)',\n",
       " 'Current',\n",
       " 'Charged Off',\n",
       " 'Fully Paid']"
      ]
     },
     "execution_count": 50,
     "metadata": {},
     "output_type": "execute_result"
    }
   ],
   "source": [
    "categories_loan_status"
   ]
  },
  {
   "cell_type": "code",
   "execution_count": 51,
   "metadata": {
    "collapsed": false
   },
   "outputs": [],
   "source": [
    "\n",
    "t = CategoricalDtype(categories=categories_loan_status, ordered=True)\n",
    "te=  data['loan_status'].astype(t)\n",
    "data['loan_status']=te.cat.codes"
   ]
  },
  {
   "cell_type": "markdown",
   "metadata": {},
   "source": [
    "3- Conclusion\n",
    "\n",
    "We embedded this feature"
   ]
  },
  {
   "cell_type": "code",
   "execution_count": 52,
   "metadata": {
    "collapsed": false
   },
   "outputs": [
    {
     "data": {
      "text/plain": [
       "0    5\n",
       "1    4\n",
       "2    5\n",
       "3    5\n",
       "4    5\n",
       "Name: loan_status, dtype: int8"
      ]
     },
     "execution_count": 52,
     "metadata": {},
     "output_type": "execute_result"
    }
   ],
   "source": [
    "data['loan_status'].head()"
   ]
  },
  {
   "cell_type": "code",
   "execution_count": null,
   "metadata": {
    "collapsed": true
   },
   "outputs": [],
   "source": []
  },
  {
   "cell_type": "markdown",
   "metadata": {},
   "source": [
    "* pymnt_plan\n",
    "\n",
    "1- Outline\n",
    "\n",
    "Constant variable, we will remove it\n",
    "\n",
    "2- Analysis"
   ]
  },
  {
   "cell_type": "code",
   "execution_count": 53,
   "metadata": {
    "collapsed": false
   },
   "outputs": [
    {
     "data": {
      "text/plain": [
       "Counter({'n': 103492, 'y': 1})"
      ]
     },
     "execution_count": 53,
     "metadata": {},
     "output_type": "execute_result"
    }
   ],
   "source": [
    "Counter(data['pymnt_plan'])"
   ]
  },
  {
   "cell_type": "code",
   "execution_count": 54,
   "metadata": {
    "collapsed": true
   },
   "outputs": [],
   "source": [
    "data = data.drop('pymnt_plan', axis=1)"
   ]
  },
  {
   "cell_type": "code",
   "execution_count": null,
   "metadata": {
    "collapsed": false
   },
   "outputs": [],
   "source": []
  },
  {
   "cell_type": "code",
   "execution_count": null,
   "metadata": {
    "collapsed": true
   },
   "outputs": [],
   "source": []
  },
  {
   "cell_type": "markdown",
   "metadata": {},
   "source": [
    "* desc\n",
    "\n",
    "1- Outline\n",
    "\n",
    "natural language text, for  now we remove it but we will may use NLP techniques\n",
    "\n",
    "2- Analysis"
   ]
  },
  {
   "cell_type": "code",
   "execution_count": 55,
   "metadata": {
    "collapsed": false
   },
   "outputs": [
    {
     "data": {
      "text/plain": [
       "0      Borrower added on 12/22/11 > I need to upgra...\n",
       "1      Borrower added on 12/22/11 > I plan to use t...\n",
       "2                                                  NaN\n",
       "3      Borrower added on 12/21/11 > to pay for prop...\n",
       "4      Borrower added on 12/21/11 > I plan on combi...\n",
       "Name: desc, dtype: object"
      ]
     },
     "execution_count": 55,
     "metadata": {},
     "output_type": "execute_result"
    }
   ],
   "source": [
    "data['desc'].head()"
   ]
  },
  {
   "cell_type": "code",
   "execution_count": 56,
   "metadata": {
    "collapsed": true
   },
   "outputs": [],
   "source": [
    "data = data.drop('desc', axis=1)"
   ]
  },
  {
   "cell_type": "markdown",
   "metadata": {},
   "source": [
    "3- Conclusion\n",
    "\n",
    "The colummn has been removed"
   ]
  },
  {
   "cell_type": "markdown",
   "metadata": {},
   "source": [
    "* purpose\n",
    "\n",
    "1- Outline \n",
    "\n",
    "Categorical variable, we will use dummy encoding \n",
    "\n",
    "2- Analysis"
   ]
  },
  {
   "cell_type": "code",
   "execution_count": 57,
   "metadata": {
    "collapsed": false
   },
   "outputs": [
    {
     "data": {
      "text/plain": [
       "Counter({'car': 2398,\n",
       "         'credit_card': 19459,\n",
       "         'debt_consolidation': 51120,\n",
       "         'educational': 325,\n",
       "         'home_improvement': 7703,\n",
       "         'house': 1363,\n",
       "         'major_purchase': 4106,\n",
       "         'medical': 1730,\n",
       "         'moving': 1027,\n",
       "         'other': 9710,\n",
       "         'renewable_energy': 137,\n",
       "         'small_business': 2614,\n",
       "         'vacation': 850,\n",
       "         'wedding': 951})"
      ]
     },
     "execution_count": 57,
     "metadata": {},
     "output_type": "execute_result"
    }
   ],
   "source": [
    "Counter(data['purpose'])"
   ]
  },
  {
   "cell_type": "code",
   "execution_count": 58,
   "metadata": {
    "collapsed": false
   },
   "outputs": [],
   "source": [
    "dum = pd.get_dummies(data['purpose'] , prefix= 'purpose')"
   ]
  },
  {
   "cell_type": "code",
   "execution_count": 59,
   "metadata": {
    "collapsed": false
   },
   "outputs": [],
   "source": [
    "dum = dum.drop('purpose_debt_consolidation', axis=1) #to avoid colinearity"
   ]
  },
  {
   "cell_type": "code",
   "execution_count": 60,
   "metadata": {
    "collapsed": true
   },
   "outputs": [],
   "source": [
    "data=pd.concat([data, dum], axis=1)"
   ]
  },
  {
   "cell_type": "markdown",
   "metadata": {},
   "source": [
    "3- Conclusion \n",
    "\n",
    "The columns have been added"
   ]
  },
  {
   "cell_type": "code",
   "execution_count": 61,
   "metadata": {
    "collapsed": false
   },
   "outputs": [],
   "source": [
    "categories_purpose = list(Counter(dum).keys())"
   ]
  },
  {
   "cell_type": "code",
   "execution_count": null,
   "metadata": {
    "collapsed": false
   },
   "outputs": [],
   "source": []
  },
  {
   "cell_type": "code",
   "execution_count": 62,
   "metadata": {
    "collapsed": false
   },
   "outputs": [
    {
     "data": {
      "text/html": [
       "<div>\n",
       "<style scoped>\n",
       "    .dataframe tbody tr th:only-of-type {\n",
       "        vertical-align: middle;\n",
       "    }\n",
       "\n",
       "    .dataframe tbody tr th {\n",
       "        vertical-align: top;\n",
       "    }\n",
       "\n",
       "    .dataframe thead th {\n",
       "        text-align: right;\n",
       "    }\n",
       "</style>\n",
       "<table border=\"1\" class=\"dataframe\">\n",
       "  <thead>\n",
       "    <tr style=\"text-align: right;\">\n",
       "      <th></th>\n",
       "      <th>purpose_house</th>\n",
       "      <th>purpose_vacation</th>\n",
       "      <th>purpose_educational</th>\n",
       "      <th>purpose_renewable_energy</th>\n",
       "      <th>purpose_car</th>\n",
       "      <th>purpose_small_business</th>\n",
       "      <th>purpose_credit_card</th>\n",
       "      <th>purpose_wedding</th>\n",
       "      <th>purpose_other</th>\n",
       "      <th>purpose_medical</th>\n",
       "      <th>purpose_home_improvement</th>\n",
       "      <th>purpose_moving</th>\n",
       "      <th>purpose_major_purchase</th>\n",
       "    </tr>\n",
       "  </thead>\n",
       "  <tbody>\n",
       "    <tr>\n",
       "      <th>0</th>\n",
       "      <td>0</td>\n",
       "      <td>0</td>\n",
       "      <td>0</td>\n",
       "      <td>0</td>\n",
       "      <td>0</td>\n",
       "      <td>0</td>\n",
       "      <td>1</td>\n",
       "      <td>0</td>\n",
       "      <td>0</td>\n",
       "      <td>0</td>\n",
       "      <td>0</td>\n",
       "      <td>0</td>\n",
       "      <td>0</td>\n",
       "    </tr>\n",
       "    <tr>\n",
       "      <th>1</th>\n",
       "      <td>0</td>\n",
       "      <td>0</td>\n",
       "      <td>0</td>\n",
       "      <td>0</td>\n",
       "      <td>1</td>\n",
       "      <td>0</td>\n",
       "      <td>0</td>\n",
       "      <td>0</td>\n",
       "      <td>0</td>\n",
       "      <td>0</td>\n",
       "      <td>0</td>\n",
       "      <td>0</td>\n",
       "      <td>0</td>\n",
       "    </tr>\n",
       "    <tr>\n",
       "      <th>2</th>\n",
       "      <td>0</td>\n",
       "      <td>0</td>\n",
       "      <td>0</td>\n",
       "      <td>0</td>\n",
       "      <td>0</td>\n",
       "      <td>1</td>\n",
       "      <td>0</td>\n",
       "      <td>0</td>\n",
       "      <td>0</td>\n",
       "      <td>0</td>\n",
       "      <td>0</td>\n",
       "      <td>0</td>\n",
       "      <td>0</td>\n",
       "    </tr>\n",
       "    <tr>\n",
       "      <th>3</th>\n",
       "      <td>0</td>\n",
       "      <td>0</td>\n",
       "      <td>0</td>\n",
       "      <td>0</td>\n",
       "      <td>0</td>\n",
       "      <td>0</td>\n",
       "      <td>0</td>\n",
       "      <td>0</td>\n",
       "      <td>1</td>\n",
       "      <td>0</td>\n",
       "      <td>0</td>\n",
       "      <td>0</td>\n",
       "      <td>0</td>\n",
       "    </tr>\n",
       "    <tr>\n",
       "      <th>4</th>\n",
       "      <td>0</td>\n",
       "      <td>0</td>\n",
       "      <td>0</td>\n",
       "      <td>0</td>\n",
       "      <td>0</td>\n",
       "      <td>0</td>\n",
       "      <td>0</td>\n",
       "      <td>0</td>\n",
       "      <td>1</td>\n",
       "      <td>0</td>\n",
       "      <td>0</td>\n",
       "      <td>0</td>\n",
       "      <td>0</td>\n",
       "    </tr>\n",
       "  </tbody>\n",
       "</table>\n",
       "</div>"
      ],
      "text/plain": [
       "   purpose_house  purpose_vacation  purpose_educational  \\\n",
       "0              0                 0                    0   \n",
       "1              0                 0                    0   \n",
       "2              0                 0                    0   \n",
       "3              0                 0                    0   \n",
       "4              0                 0                    0   \n",
       "\n",
       "   purpose_renewable_energy  purpose_car  purpose_small_business  \\\n",
       "0                         0            0                       0   \n",
       "1                         0            1                       0   \n",
       "2                         0            0                       1   \n",
       "3                         0            0                       0   \n",
       "4                         0            0                       0   \n",
       "\n",
       "   purpose_credit_card  purpose_wedding  purpose_other  purpose_medical  \\\n",
       "0                    1                0              0                0   \n",
       "1                    0                0              0                0   \n",
       "2                    0                0              0                0   \n",
       "3                    0                0              1                0   \n",
       "4                    0                0              1                0   \n",
       "\n",
       "   purpose_home_improvement  purpose_moving  purpose_major_purchase  \n",
       "0                         0               0                       0  \n",
       "1                         0               0                       0  \n",
       "2                         0               0                       0  \n",
       "3                         0               0                       0  \n",
       "4                         0               0                       0  "
      ]
     },
     "execution_count": 62,
     "metadata": {},
     "output_type": "execute_result"
    }
   ],
   "source": [
    "data[categories_purpose].head()"
   ]
  },
  {
   "cell_type": "code",
   "execution_count": null,
   "metadata": {
    "collapsed": false
   },
   "outputs": [],
   "source": []
  },
  {
   "cell_type": "code",
   "execution_count": null,
   "metadata": {
    "collapsed": false
   },
   "outputs": [],
   "source": [
    "\n"
   ]
  },
  {
   "cell_type": "markdown",
   "metadata": {},
   "source": [
    "* title\n",
    "\n",
    "1- Outline\n",
    "\n",
    "Similar to desc, we will remove it\n",
    "\n",
    "2- Analysis"
   ]
  },
  {
   "cell_type": "code",
   "execution_count": 63,
   "metadata": {
    "collapsed": false
   },
   "outputs": [
    {
     "data": {
      "text/plain": [
       "0                Computer\n",
       "1                    bike\n",
       "2    real estate business\n",
       "3                personel\n",
       "4                Personal\n",
       "Name: title, dtype: object"
      ]
     },
     "execution_count": 63,
     "metadata": {},
     "output_type": "execute_result"
    }
   ],
   "source": [
    "data['title'].head()"
   ]
  },
  {
   "cell_type": "code",
   "execution_count": 64,
   "metadata": {
    "collapsed": true
   },
   "outputs": [],
   "source": [
    "data = data.drop('title', axis=1)"
   ]
  },
  {
   "cell_type": "markdown",
   "metadata": {},
   "source": [
    "3- Outline\n",
    "\n",
    "The column has been removed"
   ]
  },
  {
   "cell_type": "code",
   "execution_count": null,
   "metadata": {
    "collapsed": false
   },
   "outputs": [],
   "source": []
  },
  {
   "cell_type": "markdown",
   "metadata": {},
   "source": [
    "* zip_code\n",
    "\n",
    "1- Outline\n",
    "Categorical variable, we will use a replace method as we have a lot of entries\n",
    "\n",
    "2- Analysis"
   ]
  },
  {
   "cell_type": "code",
   "execution_count": 65,
   "metadata": {
    "collapsed": false
   },
   "outputs": [],
   "source": [
    "categories_zip_code =  list(Counter(data['zip_code']).keys())\n",
    "\n",
    "t = CategoricalDtype(categories=categories_zip_code, ordered=True)\n",
    "te=  data['zip_code'].astype(t)\n",
    "data['zip_code']=te.cat.codes"
   ]
  },
  {
   "cell_type": "markdown",
   "metadata": {},
   "source": [
    "-3 Conclusion\n",
    "\n",
    "We replaced the string values with integers"
   ]
  },
  {
   "cell_type": "code",
   "execution_count": 66,
   "metadata": {
    "collapsed": false
   },
   "outputs": [
    {
     "data": {
      "text/plain": [
       "880"
      ]
     },
     "execution_count": 66,
     "metadata": {},
     "output_type": "execute_result"
    }
   ],
   "source": [
    "data['zip_code'].max()"
   ]
  },
  {
   "cell_type": "code",
   "execution_count": null,
   "metadata": {
    "collapsed": false
   },
   "outputs": [],
   "source": []
  },
  {
   "cell_type": "markdown",
   "metadata": {},
   "source": [
    "* addr_state\n",
    "\n",
    "1- Outline\n",
    "\n",
    "Same as zip_code, we will use replace()\n",
    "\n",
    "2- Analysis"
   ]
  },
  {
   "cell_type": "code",
   "execution_count": 67,
   "metadata": {
    "collapsed": false
   },
   "outputs": [],
   "source": [
    "categories_addr_state=list(Counter(data['addr_state']).keys())"
   ]
  },
  {
   "cell_type": "code",
   "execution_count": 68,
   "metadata": {
    "collapsed": true
   },
   "outputs": [],
   "source": [
    "t = CategoricalDtype(categories=categories_addr_state, ordered=True)\n",
    "te=  data['addr_state'].astype(t)\n",
    "data['addr_state']=te.cat.codes"
   ]
  },
  {
   "cell_type": "markdown",
   "metadata": {},
   "source": [
    "-3 Conclusion\n",
    "\n",
    "We replaced the string values with integers"
   ]
  },
  {
   "cell_type": "code",
   "execution_count": 69,
   "metadata": {
    "collapsed": false
   },
   "outputs": [
    {
     "data": {
      "text/plain": [
       "50"
      ]
     },
     "execution_count": 69,
     "metadata": {},
     "output_type": "execute_result"
    }
   ],
   "source": [
    "data['addr_state'].max()"
   ]
  },
  {
   "cell_type": "code",
   "execution_count": null,
   "metadata": {
    "collapsed": true
   },
   "outputs": [],
   "source": []
  },
  {
   "cell_type": "markdown",
   "metadata": {},
   "source": [
    "* earliest_cr_line"
   ]
  },
  {
   "cell_type": "code",
   "execution_count": 70,
   "metadata": {
    "collapsed": false
   },
   "outputs": [],
   "source": [
    "def f(s):\n",
    "    try:\n",
    "        int(s[-2:])\n",
    "        return(True)\n",
    "    except:\n",
    "        return(False)"
   ]
  },
  {
   "cell_type": "code",
   "execution_count": 71,
   "metadata": {
    "collapsed": false
   },
   "outputs": [
    {
     "data": {
      "text/plain": [
       "91881"
      ]
     },
     "execution_count": 71,
     "metadata": {},
     "output_type": "execute_result"
    }
   ],
   "source": [
    "data['earliest_cr_line'].apply(f).sum()"
   ]
  },
  {
   "cell_type": "code",
   "execution_count": 192,
   "metadata": {
    "collapsed": false
   },
   "outputs": [
    {
     "data": {
      "text/plain": [
       "0         Jan-85\n",
       "1         Apr-99\n",
       "2          1-Nov\n",
       "3         Feb-96\n",
       "4         Jan-96\n",
       "5          4-Nov\n",
       "6          5-Jul\n",
       "7          7-Jan\n",
       "8          4-Apr\n",
       "9          4-Sep\n",
       "10        Jan-98\n",
       "11        Oct-89\n",
       "12         4-Apr\n",
       "13         3-Jul\n",
       "14        May-91\n",
       "15         7-Sep\n",
       "16        Oct-98\n",
       "17        Aug-93\n",
       "18         3-Oct\n",
       "19         1-Jan\n",
       "20        Nov-97\n",
       "21        Feb-83\n",
       "22        Jul-85\n",
       "23         3-Apr\n",
       "24         1-Jun\n",
       "25         2-Feb\n",
       "26         3-Oct\n",
       "27         3-Oct\n",
       "28        Aug-84\n",
       "29         6-Nov\n",
       "           ...  \n",
       "103466    Oct-04\n",
       "103467    Nov-01\n",
       "103468    Feb-01\n",
       "103469    Aug-03\n",
       "103470    May-07\n",
       "103471    Feb-92\n",
       "103472    Feb-01\n",
       "103473    Dec-05\n",
       "103474    Sep-01\n",
       "103475    Oct-00\n",
       "103476    Dec-01\n",
       "103477    Dec-02\n",
       "103478    Jan-80\n",
       "103479    Nov-89\n",
       "103480    Oct-99\n",
       "103481    Mar-01\n",
       "103482    Apr-07\n",
       "103483    Jun-07\n",
       "103484    Mar-97\n",
       "103485    Aug-04\n",
       "103486    Nov-05\n",
       "103487    Jan-08\n",
       "103488    Nov-14\n",
       "103489    Apr-02\n",
       "103490    Sep-06\n",
       "103491    Aug-13\n",
       "103492    Feb-02\n",
       "103493    Jan-00\n",
       "103494    Mar-04\n",
       "103495    Mar-89\n",
       "Name: earliest_cr_line, Length: 103493, dtype: object"
      ]
     },
     "execution_count": 192,
     "metadata": {},
     "output_type": "execute_result"
    }
   ],
   "source": [
    "data['earliest_cr_line']"
   ]
  },
  {
   "cell_type": "markdown",
   "metadata": {},
   "source": [
    "* revol_util\n",
    "\n",
    "1- Outline\n",
    "\n",
    "Percentage, we will convert it to float\n",
    "\n",
    "2- Analysis"
   ]
  },
  {
   "cell_type": "code",
   "execution_count": 72,
   "metadata": {
    "collapsed": true
   },
   "outputs": [],
   "source": [
    "def convert_Revol2Float(s):\n",
    "    '''\n",
    "    convert the string of revol_util into a float corresponding to the percentage\n",
    "    '''\n",
    "    try:\n",
    "        return(float(s[:-1]))\n",
    "    except:\n",
    "        print(s)\n",
    "        return(s)"
   ]
  },
  {
   "cell_type": "code",
   "execution_count": 73,
   "metadata": {
    "collapsed": false,
    "scrolled": true
   },
   "outputs": [
    {
     "name": "stdout",
     "output_type": "stream",
     "text": [
      "nan\n",
      "nan\n",
      "nan\n",
      "nan\n",
      "nan\n",
      "nan\n",
      "nan\n",
      "nan\n",
      "nan\n",
      "nan\n",
      "nan\n",
      "nan\n",
      "nan\n",
      "nan\n",
      "nan\n",
      "nan\n",
      "nan\n",
      "nan\n",
      "nan\n",
      "nan\n",
      "nan\n",
      "nan\n",
      "nan\n",
      "nan\n",
      "nan\n",
      "nan\n",
      "nan\n",
      "nan\n",
      "nan\n",
      "nan\n",
      "nan\n",
      "nan\n",
      "nan\n",
      "nan\n",
      "nan\n",
      "nan\n",
      "nan\n",
      "nan\n",
      "nan\n",
      "nan\n",
      "nan\n",
      "nan\n",
      "nan\n",
      "nan\n",
      "nan\n",
      "nan\n",
      "nan\n",
      "nan\n",
      "nan\n",
      "nan\n",
      "nan\n",
      "nan\n",
      "nan\n",
      "nan\n",
      "nan\n",
      "nan\n",
      "nan\n",
      "nan\n",
      "nan\n",
      "nan\n",
      "nan\n",
      "nan\n",
      "nan\n",
      "nan\n",
      "nan\n",
      "nan\n",
      "nan\n",
      "nan\n",
      "nan\n",
      "nan\n",
      "nan\n",
      "nan\n",
      "nan\n",
      "nan\n",
      "nan\n",
      "nan\n",
      "nan\n",
      "nan\n",
      "nan\n",
      "nan\n",
      "nan\n",
      "nan\n",
      "nan\n",
      "nan\n",
      "nan\n",
      "nan\n",
      "nan\n",
      "nan\n",
      "nan\n",
      "nan\n",
      "nan\n",
      "nan\n",
      "nan\n",
      "nan\n",
      "nan\n",
      "nan\n",
      "nan\n",
      "nan\n",
      "nan\n",
      "nan\n",
      "nan\n",
      "nan\n",
      "nan\n",
      "nan\n",
      "nan\n",
      "nan\n",
      "nan\n",
      "nan\n",
      "nan\n",
      "nan\n",
      "nan\n",
      "nan\n",
      "nan\n",
      "nan\n",
      "nan\n",
      "nan\n",
      "nan\n",
      "nan\n",
      "nan\n",
      "nan\n",
      "nan\n",
      "nan\n",
      "nan\n",
      "nan\n",
      "nan\n",
      "nan\n",
      "nan\n",
      "nan\n",
      "nan\n",
      "nan\n",
      "nan\n",
      "nan\n"
     ]
    }
   ],
   "source": [
    "data['revol_util']=data['revol_util'].apply(convert_Revol2Float)"
   ]
  },
  {
   "cell_type": "markdown",
   "metadata": {},
   "source": [
    "3- Outline\n",
    "\n",
    "We replaced this column"
   ]
  },
  {
   "cell_type": "code",
   "execution_count": 74,
   "metadata": {
    "collapsed": false,
    "scrolled": true
   },
   "outputs": [
    {
     "name": "stdout",
     "output_type": "stream",
     "text": [
      "number of empty vallues :  132\n"
     ]
    }
   ],
   "source": [
    "print('number of empty vallues : ', data['revol_util'].isna().sum())"
   ]
  },
  {
   "cell_type": "code",
   "execution_count": 75,
   "metadata": {
    "collapsed": true
   },
   "outputs": [],
   "source": [
    "revol_util_missing = data['revol_util'].isna()"
   ]
  },
  {
   "cell_type": "code",
   "execution_count": null,
   "metadata": {
    "collapsed": false
   },
   "outputs": [],
   "source": [
    "\n"
   ]
  },
  {
   "cell_type": "markdown",
   "metadata": {},
   "source": [
    "* initial_list_status\n",
    "\n",
    "categorical variable, 2 levels 0 for f and 1 for w "
   ]
  },
  {
   "cell_type": "code",
   "execution_count": 76,
   "metadata": {
    "collapsed": true
   },
   "outputs": [],
   "source": [
    "def convert_initial_list_status(s):\n",
    "    if s=='f':\n",
    "        return(0)\n",
    "    elif s=='w':\n",
    "        return(1)\n",
    "    else:\n",
    "        print(s)\n",
    "        return(s)"
   ]
  },
  {
   "cell_type": "code",
   "execution_count": 77,
   "metadata": {
    "collapsed": false
   },
   "outputs": [
    {
     "data": {
      "text/plain": [
       "Counter({'f': 49440, 'w': 54053})"
      ]
     },
     "execution_count": 77,
     "metadata": {},
     "output_type": "execute_result"
    }
   ],
   "source": [
    "Counter(data['initial_list_status'])"
   ]
  },
  {
   "cell_type": "code",
   "execution_count": 78,
   "metadata": {
    "collapsed": false
   },
   "outputs": [],
   "source": [
    "data['initial_list_status'] = data['initial_list_status'].apply(convert_initial_list_status)"
   ]
  },
  {
   "cell_type": "code",
   "execution_count": 79,
   "metadata": {
    "collapsed": false
   },
   "outputs": [
    {
     "data": {
      "text/plain": [
       "0    0\n",
       "1    0\n",
       "2    0\n",
       "3    0\n",
       "4    0\n",
       "Name: initial_list_status, dtype: int64"
      ]
     },
     "execution_count": 79,
     "metadata": {},
     "output_type": "execute_result"
    }
   ],
   "source": [
    "data['initial_list_status'].head()"
   ]
  },
  {
   "cell_type": "markdown",
   "metadata": {},
   "source": [
    "* last_pymnt_d\n",
    "\n",
    "1- Outline\n",
    "\n",
    "Date, I don't know yet how to handle it..."
   ]
  },
  {
   "cell_type": "code",
   "execution_count": 80,
   "metadata": {
    "collapsed": false
   },
   "outputs": [
    {
     "data": {
      "text/plain": [
       "Counter({nan: 173,\n",
       "         '14-Feb': 792,\n",
       "         '15-Apr': 136,\n",
       "         'Jun-18': 980,\n",
       "         '13-Apr': 851,\n",
       "         '13-Mar': 1026,\n",
       "         'Feb-18': 111,\n",
       "         '11-Oct': 453,\n",
       "         '8-Sep': 12,\n",
       "         '16-Jan': 186,\n",
       "         '8-Nov': 10,\n",
       "         '15-Dec': 177,\n",
       "         '10-Feb': 112,\n",
       "         '17-Apr': 1,\n",
       "         '16-Feb': 174,\n",
       "         '8-Dec': 14,\n",
       "         '16-Oct': 164,\n",
       "         '13-Nov': 671,\n",
       "         '10-Aug': 151,\n",
       "         '15-Sep': 202,\n",
       "         '16-Jul': 146,\n",
       "         '12-Apr': 734,\n",
       "         '11-Sep': 450,\n",
       "         '16-Apr': 177,\n",
       "         '13-Feb': 869,\n",
       "         '9-Feb': 33,\n",
       "         '13-May': 907,\n",
       "         '12-Sep': 761,\n",
       "         '13-Dec': 780,\n",
       "         '11-Apr': 420,\n",
       "         '10-Nov': 195,\n",
       "         '13-Jul': 776,\n",
       "         '14-Apr': 674,\n",
       "         '11-May': 386,\n",
       "         '13-Jan': 784,\n",
       "         '15-May': 147,\n",
       "         '15-Oct': 187,\n",
       "         '15-Feb': 163,\n",
       "         '15-Mar': 182,\n",
       "         '14-Jan': 832,\n",
       "         '8-May': 14,\n",
       "         '8-Aug': 13,\n",
       "         '9-Nov': 59,\n",
       "         '12-Nov': 740,\n",
       "         '14-Sep': 693,\n",
       "         '9-Oct': 62,\n",
       "         '15-Jul': 250,\n",
       "         '16-Jun': 172,\n",
       "         '14-Jul': 820,\n",
       "         '12-Mar': 844,\n",
       "         '14-Jun': 778,\n",
       "         '11-Nov': 454,\n",
       "         '11-Dec': 544,\n",
       "         '15-Nov': 227,\n",
       "         'Apr-18': 759,\n",
       "         '13-Aug': 727,\n",
       "         '15-Aug': 210,\n",
       "         '10-Apr': 114,\n",
       "         '11-Jan': 266,\n",
       "         '17-Jan': 24,\n",
       "         '9-Apr': 43,\n",
       "         '12-May': 736,\n",
       "         '12-Feb': 735,\n",
       "         '8-Jun': 10,\n",
       "         '10-Jan': 73,\n",
       "         '10-Dec': 253,\n",
       "         '11-Feb': 336,\n",
       "         '14-Nov': 589,\n",
       "         '8-Oct': 28,\n",
       "         '8-Jul': 14,\n",
       "         '12-Oct': 826,\n",
       "         '12-Jan': 546,\n",
       "         '10-Mar': 138,\n",
       "         'Jul-18': 1565,\n",
       "         '8-Mar': 5,\n",
       "         '12-Jul': 741,\n",
       "         '9-Sep': 37,\n",
       "         'May-18': 868,\n",
       "         '14-Dec': 945,\n",
       "         '10-Jul': 188,\n",
       "         '11-Mar': 488,\n",
       "         '14-Oct': 808,\n",
       "         '13-Sep': 684,\n",
       "         '9-Jul': 43,\n",
       "         '13-Jun': 691,\n",
       "         '15-Jun': 220,\n",
       "         '15-Jan': 332,\n",
       "         'Aug-18': 58638,\n",
       "         '9-Dec': 93,\n",
       "         '16-Dec': 177,\n",
       "         '16-Nov': 142,\n",
       "         '9-Aug': 49,\n",
       "         '14-Aug': 832,\n",
       "         '11-Jun': 376,\n",
       "         '10-Jun': 116,\n",
       "         '16-May': 193,\n",
       "         '17-Feb': 6,\n",
       "         '10-May': 116,\n",
       "         'Mar-18': 687,\n",
       "         '16-Aug': 154,\n",
       "         '13-Oct': 692,\n",
       "         '16-Mar': 226,\n",
       "         '9-May': 41,\n",
       "         '8-Jan': 4,\n",
       "         '9-Jun': 40,\n",
       "         '12-Aug': 832,\n",
       "         '10-Sep': 174,\n",
       "         '10-Oct': 216,\n",
       "         '11-Jul': 394,\n",
       "         '11-Aug': 428,\n",
       "         '14-May': 682,\n",
       "         '14-Mar': 824,\n",
       "         '16-Sep': 169,\n",
       "         '8-Feb': 1,\n",
       "         '9-Jan': 21,\n",
       "         '8-Apr': 12,\n",
       "         '9-Mar': 38,\n",
       "         '12-Jun': 702,\n",
       "         '12-Dec': 707})"
      ]
     },
     "execution_count": 80,
     "metadata": {},
     "output_type": "execute_result"
    }
   ],
   "source": [
    "Counter(data['last_pymnt_d'])"
   ]
  },
  {
   "cell_type": "code",
   "execution_count": null,
   "metadata": {
    "collapsed": true
   },
   "outputs": [],
   "source": []
  },
  {
   "cell_type": "code",
   "execution_count": null,
   "metadata": {
    "collapsed": true
   },
   "outputs": [],
   "source": []
  },
  {
   "cell_type": "markdown",
   "metadata": {},
   "source": [
    "* last_credit_pull_d"
   ]
  },
  {
   "cell_type": "code",
   "execution_count": 81,
   "metadata": {
    "collapsed": false
   },
   "outputs": [
    {
     "data": {
      "text/plain": [
       "Counter({nan: 3,\n",
       "         '18-Feb': 438,\n",
       "         '14-Feb': 327,\n",
       "         '13-Mar': 406,\n",
       "         '15-Dec': 258,\n",
       "         '7-Oct': 3,\n",
       "         '17-Aug': 394,\n",
       "         '8-Dec': 5,\n",
       "         '12-Aug': 235,\n",
       "         '13-Nov': 293,\n",
       "         '18-Oct': 8022,\n",
       "         '16-Jul': 267,\n",
       "         '11-Sep': 102,\n",
       "         '13-Feb': 536,\n",
       "         '9-Feb': 15,\n",
       "         '13-Dec': 253,\n",
       "         'Dec-17': 1,\n",
       "         '10-Nov': 61,\n",
       "         '13-Jul': 250,\n",
       "         '14-Apr': 299,\n",
       "         '11-May': 140,\n",
       "         '15-Oct': 242,\n",
       "         '15-Feb': 200,\n",
       "         '14-Jan': 312,\n",
       "         '18-Apr': 479,\n",
       "         '14-Sep': 343,\n",
       "         '15-Jul': 268,\n",
       "         'Jan-18': 266,\n",
       "         '14-Jul': 345,\n",
       "         '13-Sep': 248,\n",
       "         '14-Jun': 284,\n",
       "         '7-Dec': 1,\n",
       "         '12-Sep': 258,\n",
       "         '13-Aug': 230,\n",
       "         '9-Apr': 15,\n",
       "         '12-May': 231,\n",
       "         '15-May': 221,\n",
       "         '17-Jun': 303,\n",
       "         '8-Jul': 1,\n",
       "         '13-Oct': 258,\n",
       "         '12-Jan': 158,\n",
       "         '10-Mar': 38,\n",
       "         '12-Jul': 185,\n",
       "         '9-Sep': 9,\n",
       "         '10-Jun': 38,\n",
       "         '10-Jul': 72,\n",
       "         '11-Mar': 204,\n",
       "         '16-Dec': 322,\n",
       "         '14-Oct': 323,\n",
       "         '9-Jul': 13,\n",
       "         '16-Apr': 301,\n",
       "         '7-Jun': 12,\n",
       "         '9-Dec': 27,\n",
       "         '7-Sep': 2,\n",
       "         '17-Sep': 368,\n",
       "         '16-Nov': 309,\n",
       "         '9-Aug': 14,\n",
       "         '17-Nov': 415,\n",
       "         '16-May': 246,\n",
       "         '17-Feb': 655,\n",
       "         '18-Mar': 493,\n",
       "         'Mar-18': 3081,\n",
       "         '16-Aug': 253,\n",
       "         '16-Mar': 420,\n",
       "         '14-Nov': 268,\n",
       "         '10-Sep': 72,\n",
       "         '10-Oct': 60,\n",
       "         '11-Aug': 169,\n",
       "         '16-Sep': 177,\n",
       "         '8-Feb': 2,\n",
       "         '15-Jun': 190,\n",
       "         '17-Dec': 379,\n",
       "         '14-Aug': 332,\n",
       "         '12-Jun': 207,\n",
       "         '10-Feb': 44,\n",
       "         '15-Apr': 186,\n",
       "         'Jun-18': 132,\n",
       "         '13-Apr': 270,\n",
       "         'Feb-18': 2716,\n",
       "         '11-Oct': 113,\n",
       "         '8-Sep': 5,\n",
       "         '16-Jan': 278,\n",
       "         '16-Feb': 293,\n",
       "         '10-Aug': 41,\n",
       "         '15-Sep': 236,\n",
       "         '15-Aug': 216,\n",
       "         '12-Apr': 219,\n",
       "         '7-Jul': 1,\n",
       "         '18-Aug': 1080,\n",
       "         '17-Apr': 270,\n",
       "         '13-Jan': 26,\n",
       "         '17-Oct': 445,\n",
       "         '15-Mar': 181,\n",
       "         '16-Oct': 3723,\n",
       "         '8-Aug': 8,\n",
       "         '9-Nov': 19,\n",
       "         '17-May': 271,\n",
       "         '12-Nov': 230,\n",
       "         '9-Oct': 21,\n",
       "         '17-Jan': 305,\n",
       "         '16-Jun': 221,\n",
       "         '12-Mar': 220,\n",
       "         '11-Nov': 128,\n",
       "         '11-Dec': 152,\n",
       "         '18-May': 560,\n",
       "         '15-Nov': 226,\n",
       "         'Apr-18': 353,\n",
       "         '10-Apr': 36,\n",
       "         '11-Jan': 90,\n",
       "         '13-May': 284,\n",
       "         '8-Jun': 1,\n",
       "         '11-Apr': 92,\n",
       "         '10-Jan': 26,\n",
       "         '10-Dec': 86,\n",
       "         '11-Feb': 120,\n",
       "         '18-Jul': 929,\n",
       "         '17-Mar': 306,\n",
       "         'Jul-18': 1361,\n",
       "         '8-Mar': 4,\n",
       "         'May-18': 464,\n",
       "         '14-Dec': 344,\n",
       "         '7-Aug': 13,\n",
       "         '18-Sep': 895,\n",
       "         '13-Jun': 237,\n",
       "         '12-Oct': 212,\n",
       "         'Aug-18': 55335,\n",
       "         '7-May': 1,\n",
       "         '8-Oct': 7,\n",
       "         '12-Feb': 248,\n",
       "         '11-Jun': 117,\n",
       "         '17-Jul': 314,\n",
       "         '10-May': 34,\n",
       "         '9-Mar': 9,\n",
       "         '18-Jan': 473,\n",
       "         '9-May': 10,\n",
       "         '8-Jan': 3,\n",
       "         '9-Jun': 12,\n",
       "         '11-Jul': 110,\n",
       "         '14-May': 271,\n",
       "         '14-Mar': 344,\n",
       "         '9-Jan': 11,\n",
       "         '15-Jan': 237,\n",
       "         '12-Dec': 235,\n",
       "         '18-Jun': 406})"
      ]
     },
     "execution_count": 81,
     "metadata": {},
     "output_type": "execute_result"
    }
   ],
   "source": [
    "Counter(data['last_credit_pull_d'])"
   ]
  },
  {
   "cell_type": "code",
   "execution_count": null,
   "metadata": {
    "collapsed": true
   },
   "outputs": [],
   "source": []
  },
  {
   "cell_type": "markdown",
   "metadata": {},
   "source": [
    "* application_type\n",
    "\n",
    "categorical variable, 0 for individual 1 for joint"
   ]
  },
  {
   "cell_type": "code",
   "execution_count": 82,
   "metadata": {
    "collapsed": false
   },
   "outputs": [
    {
     "data": {
      "text/plain": [
       "Counter({'Individual': 93670, 'Joint App': 9823})"
      ]
     },
     "execution_count": 82,
     "metadata": {},
     "output_type": "execute_result"
    }
   ],
   "source": [
    "Counter(data['application_type'])"
   ]
  },
  {
   "cell_type": "code",
   "execution_count": 83,
   "metadata": {
    "collapsed": true
   },
   "outputs": [],
   "source": [
    "def convert_application_type(s):\n",
    "    if s=='Individual':\n",
    "        return(0)\n",
    "    elif s=='Joint App':\n",
    "        return(1)\n",
    "    else:\n",
    "        return(s)\n",
    "    "
   ]
  },
  {
   "cell_type": "code",
   "execution_count": 84,
   "metadata": {
    "collapsed": false
   },
   "outputs": [],
   "source": [
    "data['application_type'] = data['application_type'].apply(convert_application_type)"
   ]
  },
  {
   "cell_type": "code",
   "execution_count": 85,
   "metadata": {
    "collapsed": false
   },
   "outputs": [
    {
     "data": {
      "text/plain": [
       "0    0\n",
       "1    0\n",
       "2    0\n",
       "3    0\n",
       "4    0\n",
       "Name: application_type, dtype: int64"
      ]
     },
     "execution_count": 85,
     "metadata": {},
     "output_type": "execute_result"
    }
   ],
   "source": [
    "data['application_type'].head()"
   ]
  },
  {
   "cell_type": "code",
   "execution_count": null,
   "metadata": {
    "collapsed": true
   },
   "outputs": [],
   "source": []
  },
  {
   "cell_type": "markdown",
   "metadata": {},
   "source": [
    "* verification_status_joint\n",
    "\n",
    "Categorical variable, We will use only 2 variables to avoid colinearity : joint_Income_Verified and joint_Income_SourceVerified\n"
   ]
  },
  {
   "cell_type": "code",
   "execution_count": 86,
   "metadata": {
    "collapsed": false
   },
   "outputs": [],
   "source": [
    "dum = pd.get_dummies(data['verification_status_joint'], prefix='jointIncome')"
   ]
  },
  {
   "cell_type": "code",
   "execution_count": 87,
   "metadata": {
    "collapsed": false
   },
   "outputs": [],
   "source": [
    "dum = dum.drop('jointIncome_Not Verified', axis=1)"
   ]
  },
  {
   "cell_type": "code",
   "execution_count": 88,
   "metadata": {
    "collapsed": false,
    "scrolled": true
   },
   "outputs": [
    {
     "data": {
      "text/html": [
       "<div>\n",
       "<style scoped>\n",
       "    .dataframe tbody tr th:only-of-type {\n",
       "        vertical-align: middle;\n",
       "    }\n",
       "\n",
       "    .dataframe tbody tr th {\n",
       "        vertical-align: top;\n",
       "    }\n",
       "\n",
       "    .dataframe thead th {\n",
       "        text-align: right;\n",
       "    }\n",
       "</style>\n",
       "<table border=\"1\" class=\"dataframe\">\n",
       "  <thead>\n",
       "    <tr style=\"text-align: right;\">\n",
       "      <th></th>\n",
       "      <th>jointIncome_Source Verified</th>\n",
       "      <th>jointIncome_Verified</th>\n",
       "    </tr>\n",
       "  </thead>\n",
       "  <tbody>\n",
       "    <tr>\n",
       "      <th>0</th>\n",
       "      <td>0</td>\n",
       "      <td>0</td>\n",
       "    </tr>\n",
       "    <tr>\n",
       "      <th>1</th>\n",
       "      <td>0</td>\n",
       "      <td>0</td>\n",
       "    </tr>\n",
       "    <tr>\n",
       "      <th>2</th>\n",
       "      <td>0</td>\n",
       "      <td>0</td>\n",
       "    </tr>\n",
       "    <tr>\n",
       "      <th>3</th>\n",
       "      <td>0</td>\n",
       "      <td>0</td>\n",
       "    </tr>\n",
       "    <tr>\n",
       "      <th>4</th>\n",
       "      <td>0</td>\n",
       "      <td>0</td>\n",
       "    </tr>\n",
       "  </tbody>\n",
       "</table>\n",
       "</div>"
      ],
      "text/plain": [
       "   jointIncome_Source Verified  jointIncome_Verified\n",
       "0                            0                     0\n",
       "1                            0                     0\n",
       "2                            0                     0\n",
       "3                            0                     0\n",
       "4                            0                     0"
      ]
     },
     "execution_count": 88,
     "metadata": {},
     "output_type": "execute_result"
    }
   ],
   "source": [
    "dum.head()"
   ]
  },
  {
   "cell_type": "code",
   "execution_count": 89,
   "metadata": {
    "collapsed": true
   },
   "outputs": [],
   "source": [
    "data=pd.concat([data, dum], axis=1)"
   ]
  },
  {
   "cell_type": "code",
   "execution_count": 90,
   "metadata": {
    "collapsed": false
   },
   "outputs": [
    {
     "data": {
      "text/html": [
       "<div>\n",
       "<style scoped>\n",
       "    .dataframe tbody tr th:only-of-type {\n",
       "        vertical-align: middle;\n",
       "    }\n",
       "\n",
       "    .dataframe tbody tr th {\n",
       "        vertical-align: top;\n",
       "    }\n",
       "\n",
       "    .dataframe thead th {\n",
       "        text-align: right;\n",
       "    }\n",
       "</style>\n",
       "<table border=\"1\" class=\"dataframe\">\n",
       "  <thead>\n",
       "    <tr style=\"text-align: right;\">\n",
       "      <th></th>\n",
       "      <th>member_id</th>\n",
       "      <th>loan_amnt</th>\n",
       "      <th>funded_amnt</th>\n",
       "      <th>funded_amnt_inv</th>\n",
       "      <th>term</th>\n",
       "      <th>int_rate</th>\n",
       "      <th>installment</th>\n",
       "      <th>emp_length</th>\n",
       "      <th>annual_inc</th>\n",
       "      <th>verification_status</th>\n",
       "      <th>...</th>\n",
       "      <th>purpose_major_purchase</th>\n",
       "      <th>purpose_medical</th>\n",
       "      <th>purpose_moving</th>\n",
       "      <th>purpose_other</th>\n",
       "      <th>purpose_renewable_energy</th>\n",
       "      <th>purpose_small_business</th>\n",
       "      <th>purpose_vacation</th>\n",
       "      <th>purpose_wedding</th>\n",
       "      <th>jointIncome_Source Verified</th>\n",
       "      <th>jointIncome_Verified</th>\n",
       "    </tr>\n",
       "  </thead>\n",
       "  <tbody>\n",
       "    <tr>\n",
       "      <th>0</th>\n",
       "      <td>NaN</td>\n",
       "      <td>5000</td>\n",
       "      <td>5000</td>\n",
       "      <td>4975.0</td>\n",
       "      <td>0</td>\n",
       "      <td>10.65</td>\n",
       "      <td>162.87</td>\n",
       "      <td>10.0</td>\n",
       "      <td>24000.0</td>\n",
       "      <td>Verified</td>\n",
       "      <td>...</td>\n",
       "      <td>0</td>\n",
       "      <td>0</td>\n",
       "      <td>0</td>\n",
       "      <td>0</td>\n",
       "      <td>0</td>\n",
       "      <td>0</td>\n",
       "      <td>0</td>\n",
       "      <td>0</td>\n",
       "      <td>0</td>\n",
       "      <td>0</td>\n",
       "    </tr>\n",
       "    <tr>\n",
       "      <th>1</th>\n",
       "      <td>NaN</td>\n",
       "      <td>2500</td>\n",
       "      <td>2500</td>\n",
       "      <td>2500.0</td>\n",
       "      <td>1</td>\n",
       "      <td>15.27</td>\n",
       "      <td>59.83</td>\n",
       "      <td>0.0</td>\n",
       "      <td>30000.0</td>\n",
       "      <td>Source Verified</td>\n",
       "      <td>...</td>\n",
       "      <td>0</td>\n",
       "      <td>0</td>\n",
       "      <td>0</td>\n",
       "      <td>0</td>\n",
       "      <td>0</td>\n",
       "      <td>0</td>\n",
       "      <td>0</td>\n",
       "      <td>0</td>\n",
       "      <td>0</td>\n",
       "      <td>0</td>\n",
       "    </tr>\n",
       "    <tr>\n",
       "      <th>2</th>\n",
       "      <td>NaN</td>\n",
       "      <td>2400</td>\n",
       "      <td>2400</td>\n",
       "      <td>2400.0</td>\n",
       "      <td>0</td>\n",
       "      <td>15.96</td>\n",
       "      <td>84.33</td>\n",
       "      <td>10.0</td>\n",
       "      <td>12252.0</td>\n",
       "      <td>Not Verified</td>\n",
       "      <td>...</td>\n",
       "      <td>0</td>\n",
       "      <td>0</td>\n",
       "      <td>0</td>\n",
       "      <td>0</td>\n",
       "      <td>0</td>\n",
       "      <td>1</td>\n",
       "      <td>0</td>\n",
       "      <td>0</td>\n",
       "      <td>0</td>\n",
       "      <td>0</td>\n",
       "    </tr>\n",
       "    <tr>\n",
       "      <th>3</th>\n",
       "      <td>NaN</td>\n",
       "      <td>10000</td>\n",
       "      <td>10000</td>\n",
       "      <td>10000.0</td>\n",
       "      <td>0</td>\n",
       "      <td>13.49</td>\n",
       "      <td>339.31</td>\n",
       "      <td>10.0</td>\n",
       "      <td>49200.0</td>\n",
       "      <td>Source Verified</td>\n",
       "      <td>...</td>\n",
       "      <td>0</td>\n",
       "      <td>0</td>\n",
       "      <td>0</td>\n",
       "      <td>1</td>\n",
       "      <td>0</td>\n",
       "      <td>0</td>\n",
       "      <td>0</td>\n",
       "      <td>0</td>\n",
       "      <td>0</td>\n",
       "      <td>0</td>\n",
       "    </tr>\n",
       "    <tr>\n",
       "      <th>4</th>\n",
       "      <td>NaN</td>\n",
       "      <td>3000</td>\n",
       "      <td>3000</td>\n",
       "      <td>3000.0</td>\n",
       "      <td>1</td>\n",
       "      <td>12.69</td>\n",
       "      <td>67.79</td>\n",
       "      <td>1.0</td>\n",
       "      <td>80000.0</td>\n",
       "      <td>Source Verified</td>\n",
       "      <td>...</td>\n",
       "      <td>0</td>\n",
       "      <td>0</td>\n",
       "      <td>0</td>\n",
       "      <td>1</td>\n",
       "      <td>0</td>\n",
       "      <td>0</td>\n",
       "      <td>0</td>\n",
       "      <td>0</td>\n",
       "      <td>0</td>\n",
       "      <td>0</td>\n",
       "    </tr>\n",
       "  </tbody>\n",
       "</table>\n",
       "<p>5 rows × 165 columns</p>\n",
       "</div>"
      ],
      "text/plain": [
       "   member_id  loan_amnt  funded_amnt  funded_amnt_inv  term  int_rate  \\\n",
       "0        NaN       5000         5000           4975.0     0     10.65   \n",
       "1        NaN       2500         2500           2500.0     1     15.27   \n",
       "2        NaN       2400         2400           2400.0     0     15.96   \n",
       "3        NaN      10000        10000          10000.0     0     13.49   \n",
       "4        NaN       3000         3000           3000.0     1     12.69   \n",
       "\n",
       "   installment  emp_length  annual_inc verification_status  \\\n",
       "0       162.87        10.0     24000.0            Verified   \n",
       "1        59.83         0.0     30000.0     Source Verified   \n",
       "2        84.33        10.0     12252.0        Not Verified   \n",
       "3       339.31        10.0     49200.0     Source Verified   \n",
       "4        67.79         1.0     80000.0     Source Verified   \n",
       "\n",
       "           ...          purpose_major_purchase  purpose_medical  \\\n",
       "0          ...                               0                0   \n",
       "1          ...                               0                0   \n",
       "2          ...                               0                0   \n",
       "3          ...                               0                0   \n",
       "4          ...                               0                0   \n",
       "\n",
       "   purpose_moving purpose_other  purpose_renewable_energy  \\\n",
       "0               0             0                         0   \n",
       "1               0             0                         0   \n",
       "2               0             0                         0   \n",
       "3               0             1                         0   \n",
       "4               0             1                         0   \n",
       "\n",
       "   purpose_small_business  purpose_vacation  purpose_wedding  \\\n",
       "0                       0                 0                0   \n",
       "1                       0                 0                0   \n",
       "2                       1                 0                0   \n",
       "3                       0                 0                0   \n",
       "4                       0                 0                0   \n",
       "\n",
       "  jointIncome_Source Verified  jointIncome_Verified  \n",
       "0                           0                     0  \n",
       "1                           0                     0  \n",
       "2                           0                     0  \n",
       "3                           0                     0  \n",
       "4                           0                     0  \n",
       "\n",
       "[5 rows x 165 columns]"
      ]
     },
     "execution_count": 90,
     "metadata": {},
     "output_type": "execute_result"
    }
   ],
   "source": [
    "data.head()"
   ]
  },
  {
   "cell_type": "markdown",
   "metadata": {},
   "source": [
    "* sec_app_earliest_cr_line"
   ]
  },
  {
   "cell_type": "code",
   "execution_count": 91,
   "metadata": {
    "collapsed": false
   },
   "outputs": [
    {
     "data": {
      "text/plain": [
       "Counter({'Apr-00': 38,\n",
       "         'Apr-01': 35,\n",
       "         'Apr-02': 29,\n",
       "         'Apr-03': 40,\n",
       "         'Apr-04': 55,\n",
       "         'Apr-05': 51,\n",
       "         'Apr-06': 56,\n",
       "         'Apr-07': 59,\n",
       "         'Apr-08': 44,\n",
       "         'Apr-09': 14,\n",
       "         'Apr-10': 20,\n",
       "         'Apr-11': 15,\n",
       "         'Apr-12': 15,\n",
       "         'Apr-13': 15,\n",
       "         'Apr-14': 17,\n",
       "         'Apr-15': 13,\n",
       "         'Apr-16': 7,\n",
       "         'Apr-17': 5,\n",
       "         'Apr-71': 1,\n",
       "         'Apr-72': 1,\n",
       "         'Apr-73': 1,\n",
       "         'Apr-76': 1,\n",
       "         'Apr-77': 5,\n",
       "         'Apr-78': 1,\n",
       "         'Apr-80': 1,\n",
       "         'Apr-81': 1,\n",
       "         'Apr-82': 5,\n",
       "         'Apr-83': 4,\n",
       "         'Apr-84': 3,\n",
       "         'Apr-85': 4,\n",
       "         'Apr-86': 4,\n",
       "         'Apr-87': 6,\n",
       "         'Apr-88': 7,\n",
       "         'Apr-89': 19,\n",
       "         'Apr-90': 8,\n",
       "         'Apr-91': 9,\n",
       "         'Apr-92': 11,\n",
       "         'Apr-93': 13,\n",
       "         'Apr-94': 8,\n",
       "         'Apr-95': 14,\n",
       "         'Apr-96': 12,\n",
       "         'Apr-97': 24,\n",
       "         'Apr-98': 24,\n",
       "         'Apr-99': 32,\n",
       "         'Aug-00': 36,\n",
       "         'Aug-01': 57,\n",
       "         'Aug-02': 67,\n",
       "         'Aug-03': 62,\n",
       "         'Aug-04': 74,\n",
       "         'Aug-05': 79,\n",
       "         'Aug-06': 101,\n",
       "         'Aug-07': 78,\n",
       "         'Aug-08': 40,\n",
       "         'Aug-09': 27,\n",
       "         'Aug-10': 31,\n",
       "         'Aug-11': 38,\n",
       "         'Aug-12': 27,\n",
       "         'Aug-13': 22,\n",
       "         'Aug-14': 15,\n",
       "         'Aug-15': 15,\n",
       "         'Aug-16': 8,\n",
       "         'Aug-17': 5,\n",
       "         'Aug-63': 1,\n",
       "         'Aug-66': 1,\n",
       "         'Aug-71': 1,\n",
       "         'Aug-75': 1,\n",
       "         'Aug-76': 2,\n",
       "         'Aug-77': 3,\n",
       "         'Aug-78': 3,\n",
       "         'Aug-79': 2,\n",
       "         'Aug-80': 4,\n",
       "         'Aug-83': 10,\n",
       "         'Aug-84': 6,\n",
       "         'Aug-85': 6,\n",
       "         'Aug-86': 3,\n",
       "         'Aug-87': 6,\n",
       "         'Aug-88': 4,\n",
       "         'Aug-89': 7,\n",
       "         'Aug-90': 6,\n",
       "         'Aug-91': 8,\n",
       "         'Aug-92': 10,\n",
       "         'Aug-93': 12,\n",
       "         'Aug-94': 15,\n",
       "         'Aug-95': 17,\n",
       "         'Aug-96': 16,\n",
       "         'Aug-97': 19,\n",
       "         'Aug-98': 27,\n",
       "         'Aug-99': 24,\n",
       "         'Dec-00': 37,\n",
       "         'Dec-01': 47,\n",
       "         'Dec-02': 59,\n",
       "         'Dec-03': 49,\n",
       "         'Dec-04': 57,\n",
       "         'Dec-05': 57,\n",
       "         'Dec-06': 53,\n",
       "         'Dec-07': 35,\n",
       "         'Dec-08': 24,\n",
       "         'Dec-09': 18,\n",
       "         'Dec-10': 23,\n",
       "         'Dec-11': 25,\n",
       "         'Dec-12': 12,\n",
       "         'Dec-13': 18,\n",
       "         'Dec-14': 14,\n",
       "         'Dec-15': 2,\n",
       "         'Dec-16': 7,\n",
       "         'Dec-75': 4,\n",
       "         'Dec-77': 7,\n",
       "         'Dec-79': 1,\n",
       "         'Dec-80': 3,\n",
       "         'Dec-81': 1,\n",
       "         'Dec-82': 2,\n",
       "         'Dec-83': 3,\n",
       "         'Dec-84': 1,\n",
       "         'Dec-85': 3,\n",
       "         'Dec-86': 5,\n",
       "         'Dec-87': 4,\n",
       "         'Dec-88': 5,\n",
       "         'Dec-89': 8,\n",
       "         'Dec-90': 6,\n",
       "         'Dec-91': 6,\n",
       "         'Dec-92': 8,\n",
       "         'Dec-93': 12,\n",
       "         'Dec-94': 21,\n",
       "         'Dec-95': 18,\n",
       "         'Dec-96': 27,\n",
       "         'Dec-97': 25,\n",
       "         'Dec-98': 30,\n",
       "         'Dec-99': 30,\n",
       "         'Feb-00': 41,\n",
       "         'Feb-01': 36,\n",
       "         'Feb-02': 37,\n",
       "         'Feb-03': 37,\n",
       "         'Feb-04': 49,\n",
       "         'Feb-05': 66,\n",
       "         'Feb-06': 50,\n",
       "         'Feb-07': 55,\n",
       "         'Feb-08': 42,\n",
       "         'Feb-09': 17,\n",
       "         'Feb-10': 14,\n",
       "         'Feb-11': 25,\n",
       "         'Feb-12': 18,\n",
       "         'Feb-13': 19,\n",
       "         'Feb-14': 20,\n",
       "         'Feb-15': 12,\n",
       "         'Feb-16': 11,\n",
       "         'Feb-17': 10,\n",
       "         'Feb-70': 1,\n",
       "         'Feb-76': 2,\n",
       "         'Feb-78': 3,\n",
       "         'Feb-79': 2,\n",
       "         'Feb-81': 2,\n",
       "         'Feb-82': 4,\n",
       "         'Feb-83': 5,\n",
       "         'Feb-84': 11,\n",
       "         'Feb-85': 6,\n",
       "         'Feb-86': 3,\n",
       "         'Feb-87': 6,\n",
       "         'Feb-88': 7,\n",
       "         'Feb-89': 2,\n",
       "         'Feb-90': 7,\n",
       "         'Feb-91': 4,\n",
       "         'Feb-92': 6,\n",
       "         'Feb-93': 8,\n",
       "         'Feb-94': 15,\n",
       "         'Feb-95': 6,\n",
       "         'Feb-96': 19,\n",
       "         'Feb-97': 23,\n",
       "         'Feb-98': 21,\n",
       "         'Feb-99': 24,\n",
       "         'Jan-00': 25,\n",
       "         'Jan-01': 33,\n",
       "         'Jan-02': 30,\n",
       "         'Jan-03': 35,\n",
       "         'Jan-04': 35,\n",
       "         'Jan-05': 61,\n",
       "         'Jan-06': 56,\n",
       "         'Jan-07': 56,\n",
       "         'Jan-08': 40,\n",
       "         'Jan-09': 21,\n",
       "         'Jan-10': 21,\n",
       "         'Jan-11': 26,\n",
       "         'Jan-12': 20,\n",
       "         'Jan-13': 19,\n",
       "         'Jan-14': 16,\n",
       "         'Jan-15': 14,\n",
       "         'Jan-16': 15,\n",
       "         'Jan-17': 4,\n",
       "         'Jan-59': 1,\n",
       "         'Jan-62': 1,\n",
       "         'Jan-67': 1,\n",
       "         'Jan-69': 1,\n",
       "         'Jan-70': 2,\n",
       "         'Jan-72': 1,\n",
       "         'Jan-73': 1,\n",
       "         'Jan-75': 1,\n",
       "         'Jan-76': 2,\n",
       "         'Jan-77': 2,\n",
       "         'Jan-79': 2,\n",
       "         'Jan-81': 2,\n",
       "         'Jan-82': 2,\n",
       "         'Jan-83': 4,\n",
       "         'Jan-84': 3,\n",
       "         'Jan-85': 3,\n",
       "         'Jan-86': 6,\n",
       "         'Jan-87': 9,\n",
       "         'Jan-88': 6,\n",
       "         'Jan-89': 11,\n",
       "         'Jan-90': 13,\n",
       "         'Jan-91': 4,\n",
       "         'Jan-92': 7,\n",
       "         'Jan-93': 4,\n",
       "         'Jan-94': 8,\n",
       "         'Jan-95': 13,\n",
       "         'Jan-96': 21,\n",
       "         'Jan-97': 11,\n",
       "         'Jan-98': 21,\n",
       "         'Jan-99': 27,\n",
       "         'Jul-00': 29,\n",
       "         'Jul-01': 35,\n",
       "         'Jul-02': 40,\n",
       "         'Jul-03': 78,\n",
       "         'Jul-04': 58,\n",
       "         'Jul-05': 53,\n",
       "         'Jul-06': 68,\n",
       "         'Jul-07': 51,\n",
       "         'Jul-08': 32,\n",
       "         'Jul-09': 19,\n",
       "         'Jul-10': 22,\n",
       "         'Jul-11': 20,\n",
       "         'Jul-12': 12,\n",
       "         'Jul-13': 10,\n",
       "         'Jul-14': 13,\n",
       "         'Jul-15': 8,\n",
       "         'Jul-16': 9,\n",
       "         'Jul-17': 2,\n",
       "         'Jul-67': 1,\n",
       "         'Jul-69': 1,\n",
       "         'Jul-73': 2,\n",
       "         'Jul-74': 1,\n",
       "         'Jul-76': 1,\n",
       "         'Jul-77': 1,\n",
       "         'Jul-78': 1,\n",
       "         'Jul-79': 1,\n",
       "         'Jul-81': 1,\n",
       "         'Jul-82': 2,\n",
       "         'Jul-83': 5,\n",
       "         'Jul-84': 1,\n",
       "         'Jul-85': 7,\n",
       "         'Jul-86': 5,\n",
       "         'Jul-87': 9,\n",
       "         'Jul-88': 12,\n",
       "         'Jul-89': 9,\n",
       "         'Jul-90': 7,\n",
       "         'Jul-91': 7,\n",
       "         'Jul-92': 4,\n",
       "         'Jul-93': 6,\n",
       "         'Jul-94': 17,\n",
       "         'Jul-95': 22,\n",
       "         'Jul-96': 27,\n",
       "         'Jul-97': 17,\n",
       "         'Jul-98': 21,\n",
       "         'Jul-99': 28,\n",
       "         'Jun-00': 24,\n",
       "         'Jun-01': 36,\n",
       "         'Jun-02': 43,\n",
       "         'Jun-03': 30,\n",
       "         'Jun-04': 53,\n",
       "         'Jun-05': 59,\n",
       "         'Jun-06': 68,\n",
       "         'Jun-07': 63,\n",
       "         'Jun-08': 32,\n",
       "         'Jun-09': 18,\n",
       "         'Jun-10': 26,\n",
       "         'Jun-11': 27,\n",
       "         'Jun-12': 18,\n",
       "         'Jun-13': 11,\n",
       "         'Jun-14': 12,\n",
       "         'Jun-15': 7,\n",
       "         'Jun-16': 5,\n",
       "         'Jun-17': 4,\n",
       "         'Jun-67': 2,\n",
       "         'Jun-69': 2,\n",
       "         'Jun-70': 2,\n",
       "         'Jun-71': 1,\n",
       "         'Jun-73': 1,\n",
       "         'Jun-74': 1,\n",
       "         'Jun-77': 5,\n",
       "         'Jun-78': 1,\n",
       "         'Jun-80': 1,\n",
       "         'Jun-82': 3,\n",
       "         'Jun-83': 5,\n",
       "         'Jun-84': 2,\n",
       "         'Jun-85': 4,\n",
       "         'Jun-86': 3,\n",
       "         'Jun-87': 5,\n",
       "         'Jun-88': 4,\n",
       "         'Jun-89': 9,\n",
       "         'Jun-90': 11,\n",
       "         'Jun-91': 13,\n",
       "         'Jun-92': 10,\n",
       "         'Jun-93': 10,\n",
       "         'Jun-94': 13,\n",
       "         'Jun-95': 16,\n",
       "         'Jun-96': 19,\n",
       "         'Jun-97': 22,\n",
       "         'Jun-98': 21,\n",
       "         'Jun-99': 32,\n",
       "         'Mar-00': 37,\n",
       "         'Mar-01': 39,\n",
       "         'Mar-02': 35,\n",
       "         'Mar-03': 50,\n",
       "         'Mar-04': 44,\n",
       "         'Mar-05': 63,\n",
       "         'Mar-06': 68,\n",
       "         'Mar-07': 62,\n",
       "         'Mar-08': 39,\n",
       "         'Mar-09': 19,\n",
       "         'Mar-10': 16,\n",
       "         'Mar-11': 32,\n",
       "         'Mar-12': 11,\n",
       "         'Mar-13': 14,\n",
       "         'Mar-14': 18,\n",
       "         'Mar-15': 10,\n",
       "         'Mar-16': 8,\n",
       "         'Mar-17': 5,\n",
       "         'Mar-64': 1,\n",
       "         'Mar-66': 1,\n",
       "         'Mar-67': 1,\n",
       "         'Mar-68': 1,\n",
       "         'Mar-76': 1,\n",
       "         'Mar-77': 2,\n",
       "         'Mar-80': 3,\n",
       "         'Mar-81': 1,\n",
       "         'Mar-82': 6,\n",
       "         'Mar-83': 3,\n",
       "         'Mar-84': 4,\n",
       "         'Mar-85': 6,\n",
       "         'Mar-86': 5,\n",
       "         'Mar-87': 4,\n",
       "         'Mar-88': 15,\n",
       "         'Mar-89': 11,\n",
       "         'Mar-90': 11,\n",
       "         'Mar-91': 9,\n",
       "         'Mar-92': 12,\n",
       "         'Mar-93': 7,\n",
       "         'Mar-94': 17,\n",
       "         'Mar-95': 21,\n",
       "         'Mar-96': 19,\n",
       "         'Mar-97': 25,\n",
       "         'Mar-98': 31,\n",
       "         'Mar-99': 36,\n",
       "         'May-00': 24,\n",
       "         'May-01': 25,\n",
       "         'May-02': 42,\n",
       "         'May-03': 54,\n",
       "         'May-04': 51,\n",
       "         'May-05': 61,\n",
       "         'May-06': 51,\n",
       "         'May-07': 47,\n",
       "         'May-08': 45,\n",
       "         'May-09': 26,\n",
       "         'May-10': 15,\n",
       "         'May-11': 16,\n",
       "         'May-12': 20,\n",
       "         'May-13': 15,\n",
       "         'May-14': 13,\n",
       "         'May-15': 6,\n",
       "         'May-16': 13,\n",
       "         'May-17': 3,\n",
       "         'May-63': 1,\n",
       "         'May-71': 1,\n",
       "         'May-73': 1,\n",
       "         'May-74': 1,\n",
       "         'May-76': 1,\n",
       "         'May-77': 1,\n",
       "         'May-78': 1,\n",
       "         'May-79': 2,\n",
       "         'May-80': 1,\n",
       "         'May-81': 5,\n",
       "         'May-82': 6,\n",
       "         'May-83': 7,\n",
       "         'May-84': 5,\n",
       "         'May-85': 11,\n",
       "         'May-86': 7,\n",
       "         'May-87': 4,\n",
       "         'May-88': 6,\n",
       "         'May-89': 12,\n",
       "         'May-90': 4,\n",
       "         'May-91': 15,\n",
       "         'May-92': 7,\n",
       "         'May-93': 17,\n",
       "         'May-94': 22,\n",
       "         'May-95': 16,\n",
       "         'May-96': 25,\n",
       "         'May-97': 15,\n",
       "         'May-98': 14,\n",
       "         'May-99': 31,\n",
       "         'Nov-00': 40,\n",
       "         'Nov-01': 50,\n",
       "         'Nov-02': 46,\n",
       "         'Nov-03': 55,\n",
       "         'Nov-04': 76,\n",
       "         'Nov-05': 62,\n",
       "         'Nov-06': 65,\n",
       "         'Nov-07': 33,\n",
       "         'Nov-08': 22,\n",
       "         'Nov-09': 20,\n",
       "         'Nov-10': 22,\n",
       "         'Nov-11': 16,\n",
       "         'Nov-12': 13,\n",
       "         'Nov-13': 20,\n",
       "         'Nov-14': 15,\n",
       "         'Nov-15': 7,\n",
       "         'Nov-16': 10,\n",
       "         'Nov-67': 1,\n",
       "         'Nov-71': 1,\n",
       "         'Nov-73': 1,\n",
       "         'Nov-74': 2,\n",
       "         'Nov-76': 1,\n",
       "         'Nov-78': 2,\n",
       "         'Nov-79': 3,\n",
       "         'Nov-80': 1,\n",
       "         'Nov-81': 2,\n",
       "         'Nov-82': 4,\n",
       "         'Nov-83': 8,\n",
       "         'Nov-84': 6,\n",
       "         'Nov-85': 5,\n",
       "         'Nov-86': 5,\n",
       "         'Nov-87': 10,\n",
       "         'Nov-88': 11,\n",
       "         'Nov-89': 13,\n",
       "         'Nov-90': 11,\n",
       "         'Nov-91': 13,\n",
       "         'Nov-92': 13,\n",
       "         'Nov-93': 19,\n",
       "         'Nov-94': 19,\n",
       "         'Nov-95': 25,\n",
       "         'Nov-96': 22,\n",
       "         'Nov-97': 32,\n",
       "         'Nov-98': 27,\n",
       "         'Nov-99': 39,\n",
       "         'Oct-00': 33,\n",
       "         'Oct-01': 44,\n",
       "         'Oct-02': 51,\n",
       "         'Oct-03': 67,\n",
       "         'Oct-04': 59,\n",
       "         'Oct-05': 71,\n",
       "         'Oct-06': 51,\n",
       "         'Oct-07': 52,\n",
       "         'Oct-08': 28,\n",
       "         'Oct-09': 18,\n",
       "         'Oct-10': 24,\n",
       "         'Oct-11': 14,\n",
       "         'Oct-12': 21,\n",
       "         'Oct-13': 14,\n",
       "         'Oct-14': 20,\n",
       "         'Oct-15': 14,\n",
       "         'Oct-16': 8,\n",
       "         'Oct-70': 1,\n",
       "         'Oct-71': 1,\n",
       "         'Oct-75': 2,\n",
       "         'Oct-76': 1,\n",
       "         'Oct-77': 3,\n",
       "         'Oct-78': 2,\n",
       "         'Oct-79': 2,\n",
       "         'Oct-80': 2,\n",
       "         'Oct-81': 3,\n",
       "         'Oct-82': 2,\n",
       "         'Oct-83': 5,\n",
       "         'Oct-84': 5,\n",
       "         'Oct-85': 6,\n",
       "         'Oct-86': 9,\n",
       "         'Oct-87': 6,\n",
       "         'Oct-88': 10,\n",
       "         'Oct-89': 12,\n",
       "         'Oct-90': 17,\n",
       "         'Oct-91': 9,\n",
       "         'Oct-92': 11,\n",
       "         'Oct-93': 12,\n",
       "         'Oct-94': 22,\n",
       "         'Oct-95': 39,\n",
       "         'Oct-96': 28,\n",
       "         'Oct-97': 19,\n",
       "         'Oct-98': 32,\n",
       "         'Oct-99': 35,\n",
       "         'Sep-00': 33,\n",
       "         'Sep-01': 44,\n",
       "         'Sep-02': 52,\n",
       "         'Sep-03': 63,\n",
       "         'Sep-04': 69,\n",
       "         'Sep-05': 73,\n",
       "         'Sep-06': 79,\n",
       "         'Sep-07': 54,\n",
       "         'Sep-08': 44,\n",
       "         'Sep-09': 23,\n",
       "         'Sep-10': 36,\n",
       "         'Sep-11': 33,\n",
       "         'Sep-12': 20,\n",
       "         'Sep-13': 22,\n",
       "         'Sep-14': 20,\n",
       "         'Sep-15': 14,\n",
       "         'Sep-16': 7,\n",
       "         'Sep-17': 1,\n",
       "         'Sep-69': 1,\n",
       "         'Sep-70': 1,\n",
       "         'Sep-71': 1,\n",
       "         'Sep-73': 1,\n",
       "         'Sep-74': 1,\n",
       "         'Sep-77': 3,\n",
       "         'Sep-78': 1,\n",
       "         'Sep-79': 1,\n",
       "         'Sep-80': 2,\n",
       "         'Sep-81': 6,\n",
       "         'Sep-82': 6,\n",
       "         'Sep-83': 3,\n",
       "         'Sep-84': 5,\n",
       "         'Sep-85': 3,\n",
       "         'Sep-86': 7,\n",
       "         'Sep-87': 13,\n",
       "         'Sep-88': 5,\n",
       "         'Sep-89': 4,\n",
       "         'Sep-90': 8,\n",
       "         'Sep-91': 15,\n",
       "         'Sep-92': 14,\n",
       "         'Sep-93': 10,\n",
       "         'Sep-94': 29,\n",
       "         'Sep-95': 27,\n",
       "         'Sep-96': 24,\n",
       "         'Sep-97': 32,\n",
       "         'Sep-98': 32,\n",
       "         'Sep-99': 37})"
      ]
     },
     "execution_count": 91,
     "metadata": {},
     "output_type": "execute_result"
    }
   ],
   "source": [
    "Counter(data['sec_app_earliest_cr_line'][data['sec_app_earliest_cr_line'].notnull()])"
   ]
  },
  {
   "cell_type": "code",
   "execution_count": null,
   "metadata": {
    "collapsed": true
   },
   "outputs": [],
   "source": []
  },
  {
   "cell_type": "markdown",
   "metadata": {},
   "source": [
    "* hardship_flag\n",
    "\n",
    "empty variable, we will remove it"
   ]
  },
  {
   "cell_type": "code",
   "execution_count": 92,
   "metadata": {
    "collapsed": false
   },
   "outputs": [
    {
     "data": {
      "text/plain": [
       "Counter({'N': 103492, 'Y': 1})"
      ]
     },
     "execution_count": 92,
     "metadata": {},
     "output_type": "execute_result"
    }
   ],
   "source": [
    "Counter(data['hardship_flag'])"
   ]
  },
  {
   "cell_type": "code",
   "execution_count": 93,
   "metadata": {
    "collapsed": true
   },
   "outputs": [],
   "source": [
    "data= data.drop('hardship_flag', axis=1)"
   ]
  },
  {
   "cell_type": "code",
   "execution_count": null,
   "metadata": {
    "collapsed": true
   },
   "outputs": [],
   "source": []
  },
  {
   "cell_type": "code",
   "execution_count": null,
   "metadata": {
    "collapsed": false
   },
   "outputs": [],
   "source": []
  },
  {
   "cell_type": "markdown",
   "metadata": {},
   "source": [
    "* hardship_type\n",
    "\n",
    "constant variable, we will remove it"
   ]
  },
  {
   "cell_type": "code",
   "execution_count": 94,
   "metadata": {
    "collapsed": false
   },
   "outputs": [
    {
     "name": "stdout",
     "output_type": "stream",
     "text": [
      "percentage of missing data  0.9999903375107495\n"
     ]
    }
   ],
   "source": [
    "print('percentage of missing data ', data['hardship_type'].isna().sum()/data.shape[0])"
   ]
  },
  {
   "cell_type": "code",
   "execution_count": 95,
   "metadata": {
    "collapsed": false
   },
   "outputs": [],
   "source": [
    "data= data.drop('hardship_type', axis=1)"
   ]
  },
  {
   "cell_type": "code",
   "execution_count": null,
   "metadata": {
    "collapsed": true
   },
   "outputs": [],
   "source": []
  },
  {
   "cell_type": "markdown",
   "metadata": {
    "collapsed": true
   },
   "source": [
    "* hardship_reason\n",
    "\n",
    "constant variable, we will remove it"
   ]
  },
  {
   "cell_type": "code",
   "execution_count": 96,
   "metadata": {
    "collapsed": false
   },
   "outputs": [
    {
     "name": "stdout",
     "output_type": "stream",
     "text": [
      "percentage of missing data  0.9999903375107495\n"
     ]
    }
   ],
   "source": [
    "print('percentage of missing data ', data['hardship_reason'].isna().sum()/data.shape[0])"
   ]
  },
  {
   "cell_type": "code",
   "execution_count": 97,
   "metadata": {
    "collapsed": true
   },
   "outputs": [],
   "source": [
    "data= data.drop('hardship_reason', axis=1)"
   ]
  },
  {
   "cell_type": "code",
   "execution_count": null,
   "metadata": {
    "collapsed": true
   },
   "outputs": [],
   "source": []
  },
  {
   "cell_type": "code",
   "execution_count": null,
   "metadata": {
    "collapsed": true
   },
   "outputs": [],
   "source": []
  },
  {
   "cell_type": "markdown",
   "metadata": {
    "collapsed": true
   },
   "source": [
    "* hardship_status\n",
    "\n",
    "Constant variable, we will remove it "
   ]
  },
  {
   "cell_type": "code",
   "execution_count": 98,
   "metadata": {
    "collapsed": false
   },
   "outputs": [
    {
     "name": "stdout",
     "output_type": "stream",
     "text": [
      "percentage of missing data  0.9999903375107495\n"
     ]
    }
   ],
   "source": [
    "print('percentage of missing data ', data['hardship_status'].isna().sum()/data.shape[0])"
   ]
  },
  {
   "cell_type": "code",
   "execution_count": 99,
   "metadata": {
    "collapsed": true
   },
   "outputs": [],
   "source": [
    "data= data.drop('hardship_status', axis=1)"
   ]
  },
  {
   "cell_type": "code",
   "execution_count": null,
   "metadata": {
    "collapsed": true
   },
   "outputs": [],
   "source": []
  },
  {
   "cell_type": "code",
   "execution_count": null,
   "metadata": {
    "collapsed": true
   },
   "outputs": [],
   "source": []
  },
  {
   "cell_type": "markdown",
   "metadata": {
    "collapsed": true
   },
   "source": [
    "* hardship_start_date\n",
    "\n",
    "Constant variable, we will remove it "
   ]
  },
  {
   "cell_type": "code",
   "execution_count": 100,
   "metadata": {
    "collapsed": false
   },
   "outputs": [
    {
     "name": "stdout",
     "output_type": "stream",
     "text": [
      "percentage of missing data  0.9999903375107495\n"
     ]
    }
   ],
   "source": [
    "print('percentage of missing data ', data['hardship_start_date'].isna().sum()/data.shape[0])"
   ]
  },
  {
   "cell_type": "code",
   "execution_count": 101,
   "metadata": {
    "collapsed": true
   },
   "outputs": [],
   "source": [
    "data= data.drop('hardship_start_date', axis=1)"
   ]
  },
  {
   "cell_type": "code",
   "execution_count": null,
   "metadata": {
    "collapsed": true
   },
   "outputs": [],
   "source": []
  },
  {
   "cell_type": "markdown",
   "metadata": {
    "collapsed": true
   },
   "source": [
    "* hardship_end_date\n",
    "\n",
    "Constant variable, we will remove it "
   ]
  },
  {
   "cell_type": "code",
   "execution_count": 102,
   "metadata": {
    "collapsed": false
   },
   "outputs": [
    {
     "name": "stdout",
     "output_type": "stream",
     "text": [
      "percentage of missing data  0.9999903375107495\n"
     ]
    }
   ],
   "source": [
    "print('percentage of missing data ', data['hardship_end_date'].isna().sum()/data.shape[0])"
   ]
  },
  {
   "cell_type": "code",
   "execution_count": 103,
   "metadata": {
    "collapsed": true
   },
   "outputs": [],
   "source": [
    "data= data.drop('hardship_end_date', axis=1)"
   ]
  },
  {
   "cell_type": "code",
   "execution_count": null,
   "metadata": {
    "collapsed": true
   },
   "outputs": [],
   "source": []
  },
  {
   "cell_type": "code",
   "execution_count": null,
   "metadata": {
    "collapsed": true
   },
   "outputs": [],
   "source": []
  },
  {
   "cell_type": "markdown",
   "metadata": {
    "collapsed": true
   },
   "source": [
    "* payment_plan_start_date\n",
    "\n",
    "Constant variable, we will remove it "
   ]
  },
  {
   "cell_type": "code",
   "execution_count": 104,
   "metadata": {
    "collapsed": false
   },
   "outputs": [
    {
     "name": "stdout",
     "output_type": "stream",
     "text": [
      "percentage of missing data  0.9999903375107495\n"
     ]
    }
   ],
   "source": [
    "print('percentage of missing data ', data['payment_plan_start_date'].isna().sum()/data.shape[0])"
   ]
  },
  {
   "cell_type": "code",
   "execution_count": 105,
   "metadata": {
    "collapsed": true
   },
   "outputs": [],
   "source": [
    "data= data.drop('payment_plan_start_date', axis=1)"
   ]
  },
  {
   "cell_type": "code",
   "execution_count": null,
   "metadata": {
    "collapsed": true
   },
   "outputs": [],
   "source": []
  },
  {
   "cell_type": "code",
   "execution_count": null,
   "metadata": {
    "collapsed": true
   },
   "outputs": [],
   "source": []
  },
  {
   "cell_type": "markdown",
   "metadata": {
    "collapsed": true
   },
   "source": [
    "* hardship_loan_status\n",
    "\n",
    "Constant variable, we will remove it "
   ]
  },
  {
   "cell_type": "code",
   "execution_count": 106,
   "metadata": {
    "collapsed": false
   },
   "outputs": [
    {
     "name": "stdout",
     "output_type": "stream",
     "text": [
      "percentage of missing data  0.9999903375107495\n"
     ]
    }
   ],
   "source": [
    "print('percentage of missing data ', data['hardship_loan_status'].isna().sum()/data.shape[0])"
   ]
  },
  {
   "cell_type": "code",
   "execution_count": 107,
   "metadata": {
    "collapsed": false
   },
   "outputs": [],
   "source": [
    "data= data.drop('hardship_loan_status', axis=1)"
   ]
  },
  {
   "cell_type": "code",
   "execution_count": null,
   "metadata": {
    "collapsed": true
   },
   "outputs": [],
   "source": []
  },
  {
   "cell_type": "code",
   "execution_count": null,
   "metadata": {
    "collapsed": true
   },
   "outputs": [],
   "source": []
  },
  {
   "cell_type": "code",
   "execution_count": null,
   "metadata": {
    "collapsed": true
   },
   "outputs": [],
   "source": []
  },
  {
   "cell_type": "markdown",
   "metadata": {
    "collapsed": true
   },
   "source": [
    "* disbursement_method\n",
    "\n",
    "Binary categorical variable, 0 is cash, 1 will be directPay"
   ]
  },
  {
   "cell_type": "code",
   "execution_count": 108,
   "metadata": {
    "collapsed": false
   },
   "outputs": [
    {
     "data": {
      "text/plain": [
       "Counter({'Cash': 98541, 'DirectPay': 4952})"
      ]
     },
     "execution_count": 108,
     "metadata": {},
     "output_type": "execute_result"
    }
   ],
   "source": [
    "Counter(data['disbursement_method'])"
   ]
  },
  {
   "cell_type": "code",
   "execution_count": 109,
   "metadata": {
    "collapsed": true
   },
   "outputs": [],
   "source": [
    "def convert_disbursement_method(s):\n",
    "    if s == 'Cash':\n",
    "        return(0)\n",
    "    elif s=='DirectPay':\n",
    "        return(1)\n",
    "    else:\n",
    "        return(s)"
   ]
  },
  {
   "cell_type": "code",
   "execution_count": 110,
   "metadata": {
    "collapsed": true
   },
   "outputs": [],
   "source": [
    "data['disbursement_method'] = data['disbursement_method'].apply(convert_disbursement_method)"
   ]
  },
  {
   "cell_type": "code",
   "execution_count": 111,
   "metadata": {
    "collapsed": false
   },
   "outputs": [
    {
     "data": {
      "text/plain": [
       "0    0\n",
       "1    0\n",
       "2    0\n",
       "3    0\n",
       "4    0\n",
       "Name: disbursement_method, dtype: int64"
      ]
     },
     "execution_count": 111,
     "metadata": {},
     "output_type": "execute_result"
    }
   ],
   "source": [
    "data['disbursement_method'].head()"
   ]
  },
  {
   "cell_type": "code",
   "execution_count": null,
   "metadata": {
    "collapsed": true
   },
   "outputs": [],
   "source": []
  },
  {
   "cell_type": "markdown",
   "metadata": {},
   "source": [
    "* debt_settlement_flag\n",
    "\n",
    "binary categorical variable, 0 is No 1 is Yes"
   ]
  },
  {
   "cell_type": "code",
   "execution_count": 112,
   "metadata": {
    "collapsed": false
   },
   "outputs": [
    {
     "data": {
      "text/plain": [
       "Counter({'N': 103334, 'Y': 159})"
      ]
     },
     "execution_count": 112,
     "metadata": {},
     "output_type": "execute_result"
    }
   ],
   "source": [
    "Counter(data['debt_settlement_flag'])"
   ]
  },
  {
   "cell_type": "code",
   "execution_count": 113,
   "metadata": {
    "collapsed": true
   },
   "outputs": [],
   "source": [
    "def convert_debt_settlement_flag(s):\n",
    "    if s == 'N':\n",
    "        return(0)\n",
    "    elif s=='Y':\n",
    "        return(1)\n",
    "    else:\n",
    "        return(s)"
   ]
  },
  {
   "cell_type": "code",
   "execution_count": 114,
   "metadata": {
    "collapsed": false
   },
   "outputs": [],
   "source": [
    "data['debt_settlement_flag']=data['debt_settlement_flag'].apply(convert_debt_settlement_flag)"
   ]
  },
  {
   "cell_type": "code",
   "execution_count": 115,
   "metadata": {
    "collapsed": false
   },
   "outputs": [
    {
     "data": {
      "text/plain": [
       "0    0\n",
       "1    0\n",
       "2    0\n",
       "3    0\n",
       "4    0\n",
       "Name: debt_settlement_flag, dtype: int64"
      ]
     },
     "execution_count": 115,
     "metadata": {},
     "output_type": "execute_result"
    }
   ],
   "source": [
    "data['debt_settlement_flag'].head()"
   ]
  },
  {
   "cell_type": "code",
   "execution_count": null,
   "metadata": {
    "collapsed": true
   },
   "outputs": [],
   "source": []
  },
  {
   "cell_type": "code",
   "execution_count": null,
   "metadata": {
    "collapsed": true
   },
   "outputs": [],
   "source": []
  },
  {
   "cell_type": "markdown",
   "metadata": {},
   "source": [
    "* debt_settlement_flag_date\n",
    "\n",
    "a lot of empty values, but still...this is a date we will look at it after"
   ]
  },
  {
   "cell_type": "code",
   "execution_count": 116,
   "metadata": {
    "collapsed": false
   },
   "outputs": [
    {
     "data": {
      "text/plain": [
       "105    16-Feb\n",
       "188    14-May\n",
       "255    14-Apr\n",
       "362    16-Apr\n",
       "430    15-Feb\n",
       "Name: debt_settlement_flag_date, dtype: object"
      ]
     },
     "execution_count": 116,
     "metadata": {},
     "output_type": "execute_result"
    }
   ],
   "source": [
    "data['debt_settlement_flag_date'][data['debt_settlement_flag_date'].notnull()].head()"
   ]
  },
  {
   "cell_type": "code",
   "execution_count": null,
   "metadata": {
    "collapsed": false
   },
   "outputs": [],
   "source": []
  },
  {
   "cell_type": "code",
   "execution_count": null,
   "metadata": {
    "collapsed": true
   },
   "outputs": [],
   "source": []
  },
  {
   "cell_type": "markdown",
   "metadata": {},
   "source": [
    "* settlement_status\n",
    "\n",
    "3 level categorical variable, we will use dummies"
   ]
  },
  {
   "cell_type": "code",
   "execution_count": 117,
   "metadata": {
    "collapsed": false
   },
   "outputs": [
    {
     "data": {
      "text/plain": [
       "Counter({'ACTIVE': 11, 'BROKEN': 13, 'COMPLETE': 135})"
      ]
     },
     "execution_count": 117,
     "metadata": {},
     "output_type": "execute_result"
    }
   ],
   "source": [
    "Counter(data['settlement_status'][data['settlement_status'].notnull()])"
   ]
  },
  {
   "cell_type": "code",
   "execution_count": 118,
   "metadata": {
    "collapsed": false
   },
   "outputs": [],
   "source": [
    "dum = pd.get_dummies(data['settlement_status'], prefix='settlement_status')"
   ]
  },
  {
   "cell_type": "code",
   "execution_count": 119,
   "metadata": {
    "collapsed": false
   },
   "outputs": [],
   "source": [
    "dum=dum.drop('settlement_status_COMPLETE', axis=1)"
   ]
  },
  {
   "cell_type": "code",
   "execution_count": 120,
   "metadata": {
    "collapsed": true
   },
   "outputs": [],
   "source": [
    "data=pd.concat([data, dum], axis=1)"
   ]
  },
  {
   "cell_type": "code",
   "execution_count": 121,
   "metadata": {
    "collapsed": false,
    "scrolled": true
   },
   "outputs": [
    {
     "data": {
      "text/html": [
       "<div>\n",
       "<style scoped>\n",
       "    .dataframe tbody tr th:only-of-type {\n",
       "        vertical-align: middle;\n",
       "    }\n",
       "\n",
       "    .dataframe tbody tr th {\n",
       "        vertical-align: top;\n",
       "    }\n",
       "\n",
       "    .dataframe thead th {\n",
       "        text-align: right;\n",
       "    }\n",
       "</style>\n",
       "<table border=\"1\" class=\"dataframe\">\n",
       "  <thead>\n",
       "    <tr style=\"text-align: right;\">\n",
       "      <th></th>\n",
       "      <th>member_id</th>\n",
       "      <th>loan_amnt</th>\n",
       "      <th>funded_amnt</th>\n",
       "      <th>funded_amnt_inv</th>\n",
       "      <th>term</th>\n",
       "      <th>int_rate</th>\n",
       "      <th>installment</th>\n",
       "      <th>emp_length</th>\n",
       "      <th>annual_inc</th>\n",
       "      <th>verification_status</th>\n",
       "      <th>...</th>\n",
       "      <th>purpose_moving</th>\n",
       "      <th>purpose_other</th>\n",
       "      <th>purpose_renewable_energy</th>\n",
       "      <th>purpose_small_business</th>\n",
       "      <th>purpose_vacation</th>\n",
       "      <th>purpose_wedding</th>\n",
       "      <th>jointIncome_Source Verified</th>\n",
       "      <th>jointIncome_Verified</th>\n",
       "      <th>settlement_status_ACTIVE</th>\n",
       "      <th>settlement_status_BROKEN</th>\n",
       "    </tr>\n",
       "  </thead>\n",
       "  <tbody>\n",
       "    <tr>\n",
       "      <th>0</th>\n",
       "      <td>NaN</td>\n",
       "      <td>5000</td>\n",
       "      <td>5000</td>\n",
       "      <td>4975.0</td>\n",
       "      <td>0</td>\n",
       "      <td>10.65</td>\n",
       "      <td>162.87</td>\n",
       "      <td>10.0</td>\n",
       "      <td>24000.0</td>\n",
       "      <td>Verified</td>\n",
       "      <td>...</td>\n",
       "      <td>0</td>\n",
       "      <td>0</td>\n",
       "      <td>0</td>\n",
       "      <td>0</td>\n",
       "      <td>0</td>\n",
       "      <td>0</td>\n",
       "      <td>0</td>\n",
       "      <td>0</td>\n",
       "      <td>0</td>\n",
       "      <td>0</td>\n",
       "    </tr>\n",
       "    <tr>\n",
       "      <th>1</th>\n",
       "      <td>NaN</td>\n",
       "      <td>2500</td>\n",
       "      <td>2500</td>\n",
       "      <td>2500.0</td>\n",
       "      <td>1</td>\n",
       "      <td>15.27</td>\n",
       "      <td>59.83</td>\n",
       "      <td>0.0</td>\n",
       "      <td>30000.0</td>\n",
       "      <td>Source Verified</td>\n",
       "      <td>...</td>\n",
       "      <td>0</td>\n",
       "      <td>0</td>\n",
       "      <td>0</td>\n",
       "      <td>0</td>\n",
       "      <td>0</td>\n",
       "      <td>0</td>\n",
       "      <td>0</td>\n",
       "      <td>0</td>\n",
       "      <td>0</td>\n",
       "      <td>0</td>\n",
       "    </tr>\n",
       "    <tr>\n",
       "      <th>2</th>\n",
       "      <td>NaN</td>\n",
       "      <td>2400</td>\n",
       "      <td>2400</td>\n",
       "      <td>2400.0</td>\n",
       "      <td>0</td>\n",
       "      <td>15.96</td>\n",
       "      <td>84.33</td>\n",
       "      <td>10.0</td>\n",
       "      <td>12252.0</td>\n",
       "      <td>Not Verified</td>\n",
       "      <td>...</td>\n",
       "      <td>0</td>\n",
       "      <td>0</td>\n",
       "      <td>0</td>\n",
       "      <td>1</td>\n",
       "      <td>0</td>\n",
       "      <td>0</td>\n",
       "      <td>0</td>\n",
       "      <td>0</td>\n",
       "      <td>0</td>\n",
       "      <td>0</td>\n",
       "    </tr>\n",
       "    <tr>\n",
       "      <th>3</th>\n",
       "      <td>NaN</td>\n",
       "      <td>10000</td>\n",
       "      <td>10000</td>\n",
       "      <td>10000.0</td>\n",
       "      <td>0</td>\n",
       "      <td>13.49</td>\n",
       "      <td>339.31</td>\n",
       "      <td>10.0</td>\n",
       "      <td>49200.0</td>\n",
       "      <td>Source Verified</td>\n",
       "      <td>...</td>\n",
       "      <td>0</td>\n",
       "      <td>1</td>\n",
       "      <td>0</td>\n",
       "      <td>0</td>\n",
       "      <td>0</td>\n",
       "      <td>0</td>\n",
       "      <td>0</td>\n",
       "      <td>0</td>\n",
       "      <td>0</td>\n",
       "      <td>0</td>\n",
       "    </tr>\n",
       "    <tr>\n",
       "      <th>4</th>\n",
       "      <td>NaN</td>\n",
       "      <td>3000</td>\n",
       "      <td>3000</td>\n",
       "      <td>3000.0</td>\n",
       "      <td>1</td>\n",
       "      <td>12.69</td>\n",
       "      <td>67.79</td>\n",
       "      <td>1.0</td>\n",
       "      <td>80000.0</td>\n",
       "      <td>Source Verified</td>\n",
       "      <td>...</td>\n",
       "      <td>0</td>\n",
       "      <td>1</td>\n",
       "      <td>0</td>\n",
       "      <td>0</td>\n",
       "      <td>0</td>\n",
       "      <td>0</td>\n",
       "      <td>0</td>\n",
       "      <td>0</td>\n",
       "      <td>0</td>\n",
       "      <td>0</td>\n",
       "    </tr>\n",
       "  </tbody>\n",
       "</table>\n",
       "<p>5 rows × 159 columns</p>\n",
       "</div>"
      ],
      "text/plain": [
       "   member_id  loan_amnt  funded_amnt  funded_amnt_inv  term  int_rate  \\\n",
       "0        NaN       5000         5000           4975.0     0     10.65   \n",
       "1        NaN       2500         2500           2500.0     1     15.27   \n",
       "2        NaN       2400         2400           2400.0     0     15.96   \n",
       "3        NaN      10000        10000          10000.0     0     13.49   \n",
       "4        NaN       3000         3000           3000.0     1     12.69   \n",
       "\n",
       "   installment  emp_length  annual_inc verification_status  \\\n",
       "0       162.87        10.0     24000.0            Verified   \n",
       "1        59.83         0.0     30000.0     Source Verified   \n",
       "2        84.33        10.0     12252.0        Not Verified   \n",
       "3       339.31        10.0     49200.0     Source Verified   \n",
       "4        67.79         1.0     80000.0     Source Verified   \n",
       "\n",
       "             ...            purpose_moving  purpose_other  \\\n",
       "0            ...                         0              0   \n",
       "1            ...                         0              0   \n",
       "2            ...                         0              0   \n",
       "3            ...                         0              1   \n",
       "4            ...                         0              1   \n",
       "\n",
       "   purpose_renewable_energy purpose_small_business  purpose_vacation  \\\n",
       "0                         0                      0                 0   \n",
       "1                         0                      0                 0   \n",
       "2                         0                      1                 0   \n",
       "3                         0                      0                 0   \n",
       "4                         0                      0                 0   \n",
       "\n",
       "   purpose_wedding  jointIncome_Source Verified  jointIncome_Verified  \\\n",
       "0                0                            0                     0   \n",
       "1                0                            0                     0   \n",
       "2                0                            0                     0   \n",
       "3                0                            0                     0   \n",
       "4                0                            0                     0   \n",
       "\n",
       "  settlement_status_ACTIVE  settlement_status_BROKEN  \n",
       "0                        0                         0  \n",
       "1                        0                         0  \n",
       "2                        0                         0  \n",
       "3                        0                         0  \n",
       "4                        0                         0  \n",
       "\n",
       "[5 rows x 159 columns]"
      ]
     },
     "execution_count": 121,
     "metadata": {},
     "output_type": "execute_result"
    }
   ],
   "source": [
    "data.head()"
   ]
  },
  {
   "cell_type": "code",
   "execution_count": null,
   "metadata": {
    "collapsed": true
   },
   "outputs": [],
   "source": []
  },
  {
   "cell_type": "markdown",
   "metadata": {},
   "source": [
    "* settlement_date"
   ]
  },
  {
   "cell_type": "code",
   "execution_count": 122,
   "metadata": {
    "collapsed": false
   },
   "outputs": [
    {
     "data": {
      "text/plain": [
       "105      15-Feb\n",
       "188      13-Nov\n",
       "255      14-Mar\n",
       "362      15-May\n",
       "430      14-Aug\n",
       "570      13-Mar\n",
       "620      13-Oct\n",
       "838      14-May\n",
       "876      16-Jul\n",
       "937      15-Jan\n",
       "1026     15-Feb\n",
       "1564     13-Jun\n",
       "1616     14-Feb\n",
       "1858     13-Apr\n",
       "2335     17-Apr\n",
       "2352     17-Apr\n",
       "2373     15-Jun\n",
       "2563     15-Aug\n",
       "2602     15-May\n",
       "2784     15-Apr\n",
       "3055     13-Oct\n",
       "3101     13-Feb\n",
       "3231     17-May\n",
       "3869     13-Aug\n",
       "4069     13-Nov\n",
       "4228     15-Jun\n",
       "4436     14-Jan\n",
       "4520     15-May\n",
       "4618     14-Jul\n",
       "4791     13-Nov\n",
       "          ...  \n",
       "30961    12-Feb\n",
       "32243    16-Aug\n",
       "32466    12-Aug\n",
       "32480    14-Jul\n",
       "32483    13-Apr\n",
       "32565    12-Jun\n",
       "32602    15-Jan\n",
       "32636    14-Jun\n",
       "32798    14-Jan\n",
       "32859    11-Oct\n",
       "33006    12-Aug\n",
       "33447    15-Mar\n",
       "34020    13-Mar\n",
       "34234    12-Jul\n",
       "35197    13-Dec\n",
       "35230    13-Oct\n",
       "35360    13-May\n",
       "35834    11-Jul\n",
       "36462    15-Mar\n",
       "37137    12-Mar\n",
       "39034    10-Feb\n",
       "45589    Jul-18\n",
       "45850    Aug-18\n",
       "60085    Jun-18\n",
       "75636    Jul-18\n",
       "75860    Jul-18\n",
       "90823    Jun-18\n",
       "93386    Jul-18\n",
       "94920    Aug-18\n",
       "97468    Jul-18\n",
       "Name: settlement_date, Length: 159, dtype: object"
      ]
     },
     "execution_count": 122,
     "metadata": {},
     "output_type": "execute_result"
    }
   ],
   "source": [
    "data['settlement_date'][data['settlement_date'].notnull()]"
   ]
  },
  {
   "cell_type": "code",
   "execution_count": null,
   "metadata": {
    "collapsed": true
   },
   "outputs": [],
   "source": []
  },
  {
   "cell_type": "code",
   "execution_count": null,
   "metadata": {
    "collapsed": true
   },
   "outputs": [],
   "source": []
  },
  {
   "cell_type": "code",
   "execution_count": null,
   "metadata": {
    "collapsed": true
   },
   "outputs": [],
   "source": []
  }
 ],
 "metadata": {
  "kernelspec": {
   "display_name": "Python 3",
   "language": "python",
   "name": "python3"
  },
  "language_info": {
   "codemirror_mode": {
    "name": "ipython",
    "version": 3
   },
   "file_extension": ".py",
   "mimetype": "text/x-python",
   "name": "python",
   "nbconvert_exporter": "python",
   "pygments_lexer": "ipython3",
   "version": "3.5.3"
  }
 },
 "nbformat": 4,
 "nbformat_minor": 0
}
