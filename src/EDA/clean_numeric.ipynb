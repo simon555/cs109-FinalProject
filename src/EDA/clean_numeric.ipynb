{
 "cells": [
  {
   "cell_type": "code",
   "execution_count": 1,
   "metadata": {},
   "outputs": [],
   "source": [
    "import pandas as pd"
   ]
  },
  {
   "cell_type": "code",
   "execution_count": 31,
   "metadata": {},
   "outputs": [],
   "source": [
    "def clean_numeric(inp):\n",
    "    df = pd.read_csv(inp)\n",
    "\n",
    "    num_cols = df.dtypes.index[(df.dtypes == 'float64')|(df.dtypes == 'int64')]\n",
    "    df_num = df[num_cols]\n",
    "    df_not_num = df.drop(num_cols, axis = 1)\n",
    "\n",
    "    # remove columns that have 0 or 1 entries and rest missing\n",
    "    not_missing_cols = df_num.columns[df_num.isna().sum(axis = 0) < len(df_num) - 1]\n",
    "    df_num = df_num[not_missing_cols] \n",
    "\n",
    "    # remove column with single value\n",
    "    multiple_val_cols = df_num.columns[df_num.nunique() > 1]\n",
    "    df_num = df_num[multiple_val_cols]\n",
    "\n",
    "    return pd.concat([df_num, df_not_num], axis = 1)"
   ]
  },
  {
   "cell_type": "code",
   "execution_count": 33,
   "metadata": {},
   "outputs": [
    {
     "name": "stderr",
     "output_type": "stream",
     "text": [
      "/Users/joshfeldman/anaconda3/envs/py36/lib/python3.6/site-packages/IPython/core/interactiveshell.py:2901: DtypeWarning: Columns (19,47,55,112,123,124,125,128,129,130,133,139,140,141) have mixed types. Specify dtype option on import or set low_memory=False.\n",
      "  if self.run_code(code, result):\n"
     ]
    }
   ],
   "source": [
    "df = clean_numeric('../../data/smallData/tmp/AcceptedLoans.csv')"
   ]
  }
 ],
 "metadata": {
  "kernelspec": {
   "display_name": "Python 3",
   "language": "python",
   "name": "python3"
  },
  "language_info": {
   "codemirror_mode": {
    "name": "ipython",
    "version": 3
   },
   "file_extension": ".py",
   "mimetype": "text/x-python",
   "name": "python",
   "nbconvert_exporter": "python",
   "pygments_lexer": "ipython3",
   "version": "3.6.7"
  }
 },
 "nbformat": 4,
 "nbformat_minor": 2
}
